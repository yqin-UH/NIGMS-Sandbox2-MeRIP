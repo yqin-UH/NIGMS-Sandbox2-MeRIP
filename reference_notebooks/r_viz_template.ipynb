{
 "cells": [
  {
   "cell_type": "markdown",
   "metadata": {},
   "source": [
    "## Data Visualization with R"
   ]
  },
  {
   "cell_type": "markdown",
   "metadata": {},
   "source": [
    "### Install required packages"
   ]
  },
  {
   "cell_type": "code",
   "execution_count": 1,
   "metadata": {
    "scrolled": true,
    "tags": []
   },
   "outputs": [
    {
     "name": "stderr",
     "output_type": "stream",
     "text": [
      "Updating HTML index of packages in '.Library'\n",
      "\n",
      "Making 'packages.html' ...\n",
      " done\n",
      "\n",
      "Updating HTML index of packages in '.Library'\n",
      "\n",
      "Making 'packages.html' ...\n",
      " done\n",
      "\n",
      "Updating HTML index of packages in '.Library'\n",
      "\n",
      "Making 'packages.html' ...\n",
      " done\n",
      "\n",
      "'getOption(\"repos\")' replaces Bioconductor standard repositories, see\n",
      "'help(\"repositories\", package = \"BiocManager\")' for details.\n",
      "Replacement repositories:\n",
      "    CRAN: https://cran.r-project.org\n",
      "\n",
      "Bioconductor version 3.19 (BiocManager 1.30.25), R 4.4.1 (2024-06-14)\n",
      "\n",
      "Installing package(s) 'BiocVersion', 'ComplexHeatmap'\n",
      "\n",
      "also installing the dependencies ‘rjson’, ‘BiocGenerics’, ‘S4Vectors’, ‘circlize’, ‘GetoptLong’, ‘clue’, ‘GlobalOptions’, ‘IRanges’, ‘matrixStats’, ‘doParallel’\n",
      "\n",
      "\n",
      "Updating HTML index of packages in '.Library'\n",
      "\n",
      "Making 'packages.html' ...\n",
      " done\n",
      "\n",
      "Old packages: 'curl', 'data.table', 'e1071', 'evaluate', 'MASS', 'Matrix',\n",
      "  'nlme', 'pbdZMQ', 'ps', 'ragg', 'tinytex'\n",
      "\n"
     ]
    }
   ],
   "source": [
    "install.packages(\"ggplot2\")\n",
    "install.packages(\"ggdendro\")\n",
    "install.packages(\"BiocManager\")\n",
    "BiocManager::install(\"ComplexHeatmap\")"
   ]
  },
  {
   "cell_type": "markdown",
   "metadata": {},
   "source": [
    "### Make volcano plots"
   ]
  },
  {
   "cell_type": "code",
   "execution_count": null,
   "metadata": {},
   "outputs": [],
   "source": [
    "library(ggplot2)\n",
    "\n",
    "# Read in the toptable\n",
    "toptable = read.table(\"viz_data/Toptable_VolcanoPlot.txt\")\n",
    "\n",
    "# Declare significance thresholds\n",
    "sig = 0.05\n",
    "FC = 0.6\n",
    "\n",
    "# Add a significance column to the dataframe\n",
    "# Do this as a factor where we define the levels as Up, Down, and Not_Sig\n",
    "# This allows us to easily specify the color of the points for each category\n",
    "toptable$Significance = factor(ifelse(toptable$logFC > FC & toptable$P.Value < sig,\"Up\",\n",
    "                               ifelse(toptable$logFC < -FC & toptable$P.Value < sig,\"Down\", \"Not_Sig\")),\n",
    "                              levels=c(\"Up\",\"Down\",\"Not_Sig\"))\n",
    "\n",
    "# Add color to the plot based on the values above with the scale_color_manual scale setting\n",
    "ggplot(data = toptable, aes(x=logFC, y=-log10(adj.P.Val),col=Significance)) + \n",
    "geom_point() + \n",
    "scale_color_manual(values=c(\"red\",\"blue\",\"grey\"))"
   ]
  },
  {
   "cell_type": "markdown",
   "metadata": {},
   "source": [
    "### Make heatmap with the complexHeatmap package"
   ]
  },
  {
   "cell_type": "code",
   "execution_count": null,
   "metadata": {},
   "outputs": [],
   "source": [
    "suppressPackageStartupMessages(library(ComplexHeatmap)) #suppresses certain package messages when loading\n",
    "\n",
    "# First, read in the expression data\n",
    "counts = read.csv(\"viz_data/heatmap_matrix.csv\")\n",
    "\n",
    "# Next, read in the sample metadata\n",
    "traits = read.csv(\"viz_data/heatmap_traits.csv\")\n",
    "\n",
    "# Now convert the counts data frame to a matrix since ComplexHeatmap only works on matrices\n",
    "# We will randomly select 25 genes to plot. \n",
    "genes = sample(nrow(counts), 25)\n",
    "mat = as.matrix(counts[genes,-1])\n",
    "\n",
    "column_ha = HeatmapAnnotation(Treatment = traits$Treatment, Fat_Content = anno_barplot(traits$ab_fat),\n",
    "                             col = list(Treatment = c(\"A\" = \"orange\", \"B\" = \"green\")))\n",
    "\n",
    "Heatmap(mat, name = \"mat\", show_column_names = FALSE, top_annotation = column_ha) + \n",
    "    rowAnnotation(gene = anno_text(counts[,1][genes], just = \"center\", \n",
    "    location = unit(0.5, \"npc\"), show_name = FALSE), \n",
    "    annotation_name_rot = 0)"
   ]
  },
  {
   "cell_type": "markdown",
   "metadata": {},
   "source": [
    "### Make dendrogram with ggdendro package"
   ]
  },
  {
   "cell_type": "code",
   "execution_count": null,
   "metadata": {},
   "outputs": [],
   "source": [
    "library(ggplot2)\n",
    "library(ggdendro)\n",
    "\n",
    "# Load a dataset. We will use the US Arrests dataset that comes with R\n",
    "data(\"USArrests\")\n",
    "  \n",
    "# Let's look at the first few rows to see how the dataset is structured\n",
    "head(USArrests)"
   ]
  },
  {
   "cell_type": "code",
   "execution_count": null,
   "metadata": {},
   "outputs": [],
   "source": [
    "# Create a distance matrix\n",
    "d = dist(USArrests)\n",
    "# Create a hierarchical clustering object from the distance matrix\n",
    "hc = hclust(d)\n",
    "# Print the distance matrix\n",
    "d"
   ]
  },
  {
   "cell_type": "code",
   "execution_count": null,
   "metadata": {},
   "outputs": [],
   "source": [
    "# Now let's plot the dendrogram and see how it looks. We are also using the element_text feature to incrase the font size\n",
    "ggdendrogram(hc, rotate= FALSE) + theme(text = element_text(size = 13))"
   ]
  }
 ],
 "metadata": {
  "kernelspec": {
   "display_name": "R",
   "language": "R",
   "name": "ir"
  },
  "language_info": {
   "codemirror_mode": "r",
   "file_extension": ".r",
   "mimetype": "text/x-r-source",
   "name": "R",
   "pygments_lexer": "r",
   "version": "4.4.1"
  }
 },
 "nbformat": 4,
 "nbformat_minor": 4
}
