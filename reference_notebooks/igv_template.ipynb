{
 "cells": [
  {
   "cell_type": "markdown",
   "id": "26ecfb62-b0db-4301-b655-bd3b06362324",
   "metadata": {},
   "source": [
    "# How to use igv-notebook in jupyter"
   ]
  },
  {
   "cell_type": "markdown",
   "id": "7c673e01-d75b-433e-9b2c-fc0ecaf6584c",
   "metadata": {},
   "source": [
    "This notebook will use igv-notebooks (https://github.com/igvteam/igv-notebook) in the GCP provided Python3 kernels. The study being used is a WGBS methylation GEO study study accession GSE188157 (https://www.ncbi.nlm.nih.gov/geo/query/acc.cgi?acc=GSE188157). This is a mouse study with male and female BRCA KO and wildtype samples from liver. \n",
    "\n",
    "Bismark coverage files were taken tranformed into BedGraph format(4 columns from 6 columns) and input into an interactive IGV browser in the notebook. We will use mm10 as reference and also load an annotation track from UCSC genome browser annotations FTP (https://hgdownload.soe.ucsc.edu/gbdb/mm10/). "
   ]
  },
  {
   "cell_type": "code",
   "execution_count": null,
   "id": "2b951a8c-9de0-46c5-8d97-156109675f0e",
   "metadata": {},
   "outputs": [],
   "source": [
    "%cd ../"
   ]
  },
  {
   "cell_type": "code",
   "execution_count": null,
   "id": "bb021ef1-45a8-497e-a876-e56df41234b4",
   "metadata": {},
   "outputs": [],
   "source": [
    "#We will use BedGraph format and convert methylation coverage files into BedGraph format\n",
    "from IPython.display import Image\n",
    "Image(\"/home/jupyter/img/BedGraph.PNG\")"
   ]
  },
  {
   "cell_type": "markdown",
   "id": "e4b6edf6-6293-4a3b-a147-eaec8faa1f4a",
   "metadata": {},
   "source": [
    "### Below we are:\n",
    "1. Making our directory to store our data\n",
    "2. Downloading data\n",
    "3. Uncompressing data"
   ]
  },
  {
   "cell_type": "code",
   "execution_count": null,
   "id": "cd602b83-f851-4af5-a7f9-accf91da2c57",
   "metadata": {},
   "outputs": [],
   "source": [
    "!mkdir GSE188157_example"
   ]
  },
  {
   "cell_type": "code",
   "execution_count": null,
   "id": "9468ad5f-1e05-4447-871b-c20178e88929",
   "metadata": {},
   "outputs": [],
   "source": [
    "#Mouse WGBS Study\n",
    "!wget https://ftp.ncbi.nlm.nih.gov/geo/series/GSE188nnn/GSE188157/suppl/GSE188157_RAW.tar -P ~/GSE188157_example"
   ]
  },
  {
   "cell_type": "code",
   "execution_count": null,
   "id": "4ad1dd7e-2d4f-4f25-9280-72fb23a57f8b",
   "metadata": {},
   "outputs": [],
   "source": [
    "!wget https://ftp.ncbi.nlm.nih.gov/geo/series/GSE188nnn/GSE188157/matrix/GSE188157_series_matrix.txt.gz -P ~/GSE188157_example"
   ]
  },
  {
   "cell_type": "code",
   "execution_count": null,
   "id": "379f94d6-d80f-4b7b-aecf-fcabed467f0e",
   "metadata": {},
   "outputs": [],
   "source": [
    "!tar -xvf /home/jupyter/GSE188157_example/GSE188157_RAW.tar -C /home/jupyter/GSE188157_example/"
   ]
  },
  {
   "cell_type": "code",
   "execution_count": null,
   "id": "f9198ed6-ac16-41d9-b2a5-4763578d2c67",
   "metadata": {},
   "outputs": [],
   "source": [
    "!gunzip /home/jupyter/GSE188157_example/*.gz"
   ]
  },
  {
   "cell_type": "code",
   "execution_count": null,
   "id": "90042809-f300-4470-ac2e-47e654a84daa",
   "metadata": {},
   "outputs": [],
   "source": [
    "!ls /home/jupyter/GSE188157_example/"
   ]
  },
  {
   "cell_type": "code",
   "execution_count": null,
   "id": "605b04a9-e1b3-4b37-82d7-805f702593ec",
   "metadata": {},
   "outputs": [],
   "source": [
    "!head /home/jupyter/GSE188157_example/GSM5671130_SEQ0032_3_3-MUP1_GRCm38_bismark_bt2_pe.bismark.cov"
   ]
  },
  {
   "cell_type": "markdown",
   "id": "c2cfe757-fc4b-46e4-becd-5103054a1b12",
   "metadata": {},
   "source": [
    "### Now we will use a shell script to convert each .cov file to a .bedgraph"
   ]
  },
  {
   "cell_type": "markdown",
   "id": "f55b3294-0f01-4daa-98cb-5ea05fc2e9e4",
   "metadata": {},
   "source": [
    "This step is specific to bismark coverage files that are similar to bed files...but not exactly. SO, we are chopping off columns 5 and 6 from the Bismark.cov files. If you are using BED, BedGraph, BAM, or some other track format you should already be in the format that you need. \n",
    "\n",
    "To convert the .cov files, make the script below and save it in /home/jupyter"
   ]
  },
  {
   "cell_type": "code",
   "execution_count": null,
   "id": "a3e04b79-8885-4039-99d7-c155ecfa15ee",
   "metadata": {},
   "outputs": [],
   "source": [
    "!cat CovToBedGraph.sh"
   ]
  },
  {
   "cell_type": "code",
   "execution_count": null,
   "id": "3fdd7e02-3823-46cb-803f-d55f263d5971",
   "metadata": {},
   "outputs": [],
   "source": [
    "!bash CovToBedGraph.sh"
   ]
  },
  {
   "cell_type": "code",
   "execution_count": null,
   "id": "c7197106-319a-45d4-9c6d-301f1c8f13bf",
   "metadata": {},
   "outputs": [],
   "source": [
    "!head /home/jupyter/GSE188157_example/GSM5671130_SEQ0032_3_3-MUP1_GRCm38_bismark_bt2_pe.bismark.bedgraph"
   ]
  },
  {
   "cell_type": "code",
   "execution_count": null,
   "id": "a1b022c6-55ad-45bb-9257-783b9d1a2d48",
   "metadata": {},
   "outputs": [],
   "source": [
    "#What genome build did this study use?\n",
    "!gunzip /home/jupyter/GSE188157_example/GSE188157_series_matrix.txt.gz\n",
    "!grep 'Genome_build' /home/jupyter/GSE188157_example/GSE188157_series_matrix.txt"
   ]
  },
  {
   "cell_type": "markdown",
   "id": "19db0c47-0e81-413d-a75b-5997b9d62ee6",
   "metadata": {},
   "source": [
    "### You can store reference files locally or point to URLs with igv-notebook"
   ]
  },
  {
   "cell_type": "markdown",
   "id": "b4c9117f-a11b-45a3-93fd-926eb9236cfb",
   "metadata": {},
   "source": [
    "Below we are downloading some reference files and storing them locally in our notebook. If you have some custom reference you'de like to use you could similarly create a folder for them and upload them. Alternatively, as we've seen in previous workshops you can store files in Google Cloud Storage buckets and either mount the bucket with gcsfuse or copy them in with gsutil commands. "
   ]
  },
  {
   "cell_type": "code",
   "execution_count": null,
   "id": "3a5321b8-6659-4c79-9b85-19fbfcf2fe8f",
   "metadata": {},
   "outputs": [],
   "source": [
    "!mkdir Reference_mm10"
   ]
  },
  {
   "cell_type": "code",
   "execution_count": null,
   "id": "61dd9a93-6795-46d6-82af-22036b70bed9",
   "metadata": {},
   "outputs": [],
   "source": [
    "!wget https://ftp.ncbi.nlm.nih.gov/genomes/all/GCF/000/001/635/GCF_000001635.26_GRCm38.p6/GCF_000001635.26_GRCm38.p6_genomic.fna.gz -P Reference_mm10/"
   ]
  },
  {
   "cell_type": "code",
   "execution_count": null,
   "id": "7576be62-aa3b-49eb-94d5-31224aca6aa1",
   "metadata": {},
   "outputs": [],
   "source": [
    "!gunzip Reference_mm10/GCF_000001635.26_GRCm38.p6_genomic.fna.gz"
   ]
  },
  {
   "cell_type": "code",
   "execution_count": null,
   "id": "c8958e00-5b2c-4fdc-8b91-071c6a059f67",
   "metadata": {},
   "outputs": [],
   "source": [
    "!mv Reference_mm10/GCF_000001635.26_GRCm38.p6_genomic.fna Reference_mm10/GCF_000001635.26_GRCm38.p6_genomic.fa"
   ]
  },
  {
   "cell_type": "code",
   "execution_count": null,
   "id": "d4f93a5f-86f9-4fd0-81d4-dea748b25372",
   "metadata": {},
   "outputs": [],
   "source": [
    "!conda install -c bioconda samtools -y"
   ]
  },
  {
   "cell_type": "code",
   "execution_count": null,
   "id": "0fd784f5-c905-470c-abc4-556eefa81a14",
   "metadata": {},
   "outputs": [],
   "source": [
    "!samtools faidx Reference_mm10/GCF_000001635.26_GRCm38.p6_genomic.fa"
   ]
  },
  {
   "cell_type": "markdown",
   "id": "04e1996e-b698-4aca-a1e0-4ea96f29b139",
   "metadata": {},
   "source": [
    "### Install igv-notebook and initialize"
   ]
  },
  {
   "cell_type": "markdown",
   "id": "d8938b95-17f0-4f14-956f-cbb613930ce5",
   "metadata": {},
   "source": [
    "The kernel we are using is the default Python 3 (ipykernel) VertexAI kernel. We are installing igv-notebook with pip below."
   ]
  },
  {
   "cell_type": "code",
   "execution_count": null,
   "id": "2a3214da-c0d3-455e-b6bc-a47b83920434",
   "metadata": {},
   "outputs": [],
   "source": [
    "#install IGV on managed notebook\n",
    "!pip install --user igv-notebook"
   ]
  },
  {
   "cell_type": "code",
   "execution_count": null,
   "id": "55191eb5-a8a0-4dc6-9939-322a4f9b5397",
   "metadata": {},
   "outputs": [],
   "source": [
    "import igv_notebook\n",
    "\n",
    "igv_notebook.init()"
   ]
  },
  {
   "cell_type": "markdown",
   "id": "4a218242-b924-4e05-874a-523aa6a74a76",
   "metadata": {},
   "source": [
    "#### Browser 'b1' shows the human reference that Broad stores a copy of. "
   ]
  },
  {
   "cell_type": "code",
   "execution_count": null,
   "id": "7c034ee8-c7f4-49b3-a5e3-2e01be2e821a",
   "metadata": {},
   "outputs": [],
   "source": [
    "b1 = igv_notebook.Browser(\n",
    "    {\n",
    "        \"genome\": \"hg19\",\n",
    "        \"locus\": \"chr22:24,376,166-24,376,456\"\n",
    "    }\n",
    ")"
   ]
  },
  {
   "cell_type": "markdown",
   "id": "1b9dc965-04bd-4190-b315-7ac7cb951974",
   "metadata": {},
   "source": [
    "#### Use this command to make b1 static prior to exporting your notebook"
   ]
  },
  {
   "cell_type": "code",
   "execution_count": null,
   "id": "481adafb-2ea8-40b8-a8ac-df9660cf01f2",
   "metadata": {},
   "outputs": [],
   "source": [
    "b1.to_svg()"
   ]
  },
  {
   "cell_type": "markdown",
   "id": "d43f8c17-fac0-435e-b115-bffbe78e963e",
   "metadata": {},
   "source": [
    "#### Browser 'b2' shows using the local reference files we downloaded earlier"
   ]
  },
  {
   "cell_type": "code",
   "execution_count": null,
   "id": "b1b5b82b-0d6f-4b83-ab3a-746c1227440b",
   "metadata": {},
   "outputs": [],
   "source": [
    "b2 = igv_notebook.Browser(\n",
    "    {\n",
    "        \"reference\": {\n",
    "            \"id\": \"mm10_custom\",\n",
    "            \"name\": \"mm10_custom\",\n",
    "            \"fastaURL\": \"Reference_mm10/GCF_000001635.26_GRCm38.p6_genomic.fa\",\n",
    "            \"indexURL\": \"Reference_mm10/GCF_000001635.26_GRCm38.p6_genomic.fa.fai\",\n",
    "        },\n",
    "        \"locus\": \"NT_080256.1:71,136-71,205\"\n",
    "    })"
   ]
  },
  {
   "cell_type": "markdown",
   "id": "61573a67-a827-4ac5-8594-669d362e09f8",
   "metadata": {},
   "source": [
    "#### Browser 'b3' shows a mouse reference. We'll move forward with adding tracks to this reference since our study has mm10 coverage files produced by Bismark."
   ]
  },
  {
   "cell_type": "code",
   "execution_count": null,
   "id": "343714a3-7821-4cdd-9de4-cfb42a51f876",
   "metadata": {},
   "outputs": [],
   "source": [
    "#open interactive genome browser in notebook\n",
    "b3 = igv_notebook.Browser(\n",
    "    {\n",
    "        \"genome\": \"mm10\",\n",
    "        \"locus\": \"chr11:101,479,688-101,606,077\"\n",
    "    }\n",
    ")\n",
    "\n",
    "#brca1 chr11:101,479,688-101,606,077\n",
    "#pax9 chr12:56691693-56712824\n"
   ]
  },
  {
   "cell_type": "code",
   "execution_count": null,
   "id": "ea901a9f-ebee-4947-a90d-cadb21d2379d",
   "metadata": {},
   "outputs": [],
   "source": [
    "#Add local file as a track\n",
    "b3.load_track(\n",
    "{\n",
    "        \"name\": \"KO\",\n",
    "        \"url\": \"GSE188157_example/GSM5671130_SEQ0032_3_3-MUP1_GRCm38_bismark_bt2_pe.bismark.bedgraph\",\n",
    "        \"format\": \"bedgraph\",\n",
    "        \"type\": \"wig\",\n",
    "        \"color\":\"red\",\n",
    "        \"height\": 25\n",
    "    })"
   ]
  },
  {
   "cell_type": "code",
   "execution_count": null,
   "id": "77bf965b-0de0-4bca-864c-d45714b0d97b",
   "metadata": {},
   "outputs": [],
   "source": [
    "b3.load_track(\n",
    "{\n",
    "        \"name\": \"WT\",\n",
    "        \"url\": \"GSE188157_example/GSM5671131_SEQ0032_1_4-MUP2_GRCm38_bismark_bt2_pe.bismark.bedgraph\",\n",
    "        \"format\": \"bedgraph\",\n",
    "        \"type\": \"wig\",\n",
    "        \"color\": \"blue\",\n",
    "        \"height\": 25\n",
    "    })"
   ]
  },
  {
   "cell_type": "code",
   "execution_count": null,
   "id": "5e44fe11-9475-4acc-8cf0-1d677a0de293",
   "metadata": {},
   "outputs": [],
   "source": [
    "#Add annotation track from UCSC website\n",
    "b3.load_track(\n",
    "{\n",
    "        \"name\": \"UCSC_encode3_chromHmm_mm10_Liver_P0\",\n",
    "        \"url\": \"https://hgdownload.soe.ucsc.edu/gbdb/mm10/encode3/chromHmm/encode3RenChromHmmLiverP0.bb\",\n",
    "        \"format\": \"bigbed\",\n",
    "        \"type\": \"annotation\",\n",
    "        \"height\": 100\n",
    "    })"
   ]
  },
  {
   "cell_type": "code",
   "execution_count": null,
   "id": "70ac6117-93cd-4f20-b0f0-3c7944ba318c",
   "metadata": {},
   "outputs": [],
   "source": [
    "b3.to_svg()"
   ]
  },
  {
   "cell_type": "markdown",
   "id": "99147f26-fdf0-4a6b-a1d4-0637e39b14e3",
   "metadata": {},
   "source": [
    "#### Learn about the different track types in IGV\n",
    "https://github.com/igvteam/igv.js/wiki/Tracks-2.0"
   ]
  }
 ],
 "metadata": {},
 "nbformat": 4,
 "nbformat_minor": 5
}
