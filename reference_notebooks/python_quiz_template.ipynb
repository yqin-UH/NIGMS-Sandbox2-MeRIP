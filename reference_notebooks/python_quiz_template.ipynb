{
 "cells": [
  {
   "cell_type": "markdown",
   "id": "11ee12d6-1d2c-4a31-aac4-7b01b29eeb87",
   "metadata": {},
   "source": [
    "## Workshop 6: Interactivity in Jupyter Notebooks"
   ]
  },
  {
   "cell_type": "markdown",
   "id": "fe45b144-905a-40cf-afc8-14f3f9d53d34",
   "metadata": {},
   "source": [
    "## Part 2: JupyterQuiz"
   ]
  },
  {
   "cell_type": "markdown",
   "id": "56c7935c-3ee4-4b09-a5be-ddfbc5f2758c",
   "metadata": {},
   "source": [
    "JupyterQuiz is a python package that can be used to create interactive quizzes in jupyter. "
   ]
  },
  {
   "cell_type": "code",
   "execution_count": null,
   "id": "f84bdf3d-46ac-49db-aac7-3d99861edf2b",
   "metadata": {},
   "outputs": [],
   "source": [
    "!pip install jupyterquiz"
   ]
  },
  {
   "cell_type": "code",
   "execution_count": null,
   "id": "8e31ea70-fba4-4e07-bc7c-9853a1f8ccc3",
   "metadata": {},
   "outputs": [],
   "source": [
    "from jupyterquiz import display_quiz"
   ]
  },
  {
   "cell_type": "markdown",
   "id": "f6ec1fc7-a7fd-4819-92b7-a6d5dc107cf9",
   "metadata": {},
   "source": [
    "Jupyter quizzes and cards are made through a json file structured like the example below. You can see other examples in the questions directory."
   ]
  },
  {
   "cell_type": "code",
   "execution_count": null,
   "id": "181fcce2-6c6d-4de1-812c-c19c69ffb7f3",
   "metadata": {},
   "outputs": [],
   "source": [
    "jt_quiz = [\n",
    "    {'question': 'JT is a better python programmer than Justin Timberlake',\n",
    "     'type': 'multiple_choice',\n",
    "     'answers': [\n",
    "         {'answer': 'True', 'correct': True, 'feedback': 'yeayyy'},\n",
    "         {'answer': 'False', 'correct': False, 'feedback': 'Rude.'}\n",
    "     ]\n",
    "    },\n",
    "    \n",
    "    {'question': 'The following 3 would be reasonable to serve as drinks at mealtime',\n",
    "     'type': 'many_choice',\n",
    "     'answers': [\n",
    "         {'answer': 'Water', 'correct': True, 'feedback': 'Duh.'},\n",
    "         {'answer': 'Beer', 'correct': True, 'feedback': 'Gulp.'},\n",
    "         {'answer': 'Coke', 'correct': True, 'feedback': 'Yup.'},\n",
    "         {'answer': 'The tears of one thousand bitter sports fans.', 'correct': False, 'feedback': 'Lets not.'}\n",
    "     ]\n",
    "    },    \n",
    "    \n",
    "]\n",
    "\n",
    "display_quiz(jt_quiz)"
   ]
  },
  {
   "cell_type": "markdown",
   "id": "dbd8a689-4624-4759-b624-0e41bac6aabe",
   "metadata": {},
   "source": [
    "<div class=\"alert alert-block alert-danger\">\n",
    "    <i class=\"fa fa-exclamation-circle\" aria-hidden=\"true\"></i>\n",
    "    <b>Alert: </b>  You can see below that when you first open this notebook Jupyter quizzes does not load any time a user refreshes or starts their notebook again they would have to rerun the quiz command. So to get around this we will need to export the quiz as a <b>HTML file</b>.\n",
    "</div>"
   ]
  },
  {
   "cell_type": "code",
   "execution_count": null,
   "id": "e8b2607b-25f6-4110-a2c4-b2a9bf4d9034",
   "metadata": {},
   "outputs": [],
   "source": [
    "display_quiz(\"questions/ManyChoice_Aligners.json\")"
   ]
  },
  {
   "cell_type": "code",
   "execution_count": null,
   "id": "bae697bc-397c-4d1d-8d24-2e999eaa6679",
   "metadata": {},
   "outputs": [],
   "source": [
    "display_quiz(\"questions/SingleChoice_largestgenome.json\")"
   ]
  },
  {
   "cell_type": "code",
   "execution_count": null,
   "id": "0cf0e425-143d-43d8-a14a-99af8affde27",
   "metadata": {},
   "outputs": [],
   "source": [
    "display_quiz(\"questions/Numerical.json\")"
   ]
  },
  {
   "cell_type": "markdown",
   "id": "70f6768a-282b-49e4-9b67-d4bd5afd024b",
   "metadata": {},
   "source": [
    "## Part 3: JupyterCards"
   ]
  },
  {
   "cell_type": "markdown",
   "id": "b025ec7f-6fdd-439c-81b6-a22bacf02958",
   "metadata": {},
   "source": [
    "JupyterCards was developed by the same person who made JupyterQuiz. This tool can interactively introduce defitions or biological concepts that are important to understand your learning module content. "
   ]
  },
  {
   "cell_type": "code",
   "execution_count": null,
   "id": "0852fcf0-db31-4e82-8d3a-68ff034ee5fb",
   "metadata": {},
   "outputs": [],
   "source": [
    "!pip install jupytercards"
   ]
  },
  {
   "cell_type": "markdown",
   "id": "62e81f81-e93e-4fc9-a76d-249c61863fce",
   "metadata": {},
   "source": [
    "<div class=\"alert alert-block alert-danger\">\n",
    "    <i class=\"fa fa-exclamation-circle\" aria-hidden=\"true\"></i>\n",
    "    <b>Alert: </b>  You can see below that when you first open this notebook Jupyter cards does not load any time a user refreshes or starts their notebook again they would have to rerun the card command. So to get around this we will need to export the quiz as a <b>HTML file</b>.\n",
    "</div>"
   ]
  },
  {
   "cell_type": "code",
   "execution_count": null,
   "id": "280b43f9-b74b-4b6d-bddf-308373cb5eb6",
   "metadata": {},
   "outputs": [],
   "source": [
    "from jupytercards import display_flashcards\n",
    "display_flashcards('flashcards/Bio_definitions1.json')"
   ]
  },
  {
   "cell_type": "markdown",
   "id": "1e2fba25-d044-4886-aa2f-ede7d4fa2f17",
   "metadata": {},
   "source": [
    "## Export Quiz and Cards as HTML"
   ]
  },
  {
   "cell_type": "markdown",
   "id": "411ae6c8-c49b-459c-b184-a69a8bc86f2d",
   "metadata": {},
   "source": [
    "Benefits to exporting your files as HTML are:\n",
    "- Users wont see the input code so they wont know the path to your quizzes/cards\n",
    "- You are able to resize the quizzes/cards\n",
    "- The user may have to run the IFrame command once but after that the quizzes will stay put on the notebook"
   ]
  },
  {
   "cell_type": "markdown",
   "id": "d21efa07-9613-4769-adac-8449ea675b17",
   "metadata": {},
   "source": [
    "### JupyterQuiz"
   ]
  },
  {
   "cell_type": "markdown",
   "id": "96ec5474-c968-4a2c-9ecd-0631feb9c448",
   "metadata": {},
   "source": [
    "1. Enable Jupyter extensions by clicking on the puzzle piece icon <img src=\"images/extension.png\" width=\"20\" height=\"20\"> then click <img src=\"images/enable.png\" width=\"50\" height=\"50\">.\n",
    "2. Install jupyterquiz `pip install jupyterquiz` if you havent already. Make sure you are using a Python Kernel\n",
    "3. Create a JSON jupyterquiz file to hold your questions and answers\n",
    "    - We recommend creating a separate JSON file for each quiz if you would like to separate your quizzes between notebooks or sections of your tutorial\n",
    "4. Create a jupyter notebook for only displaying your quizzes\n",
    "    <br>a. You can use the following commands to display your quiz: \n",
    "    ```\n",
    "            from jupyterquiz import display_quiz\n",
    "            display_quiz(\"path/to/quiz_file.json\")\n",
    "    ```       \n",
    "    b. If your quiz is not displayed you may need to make sure you press \"Trust HTML\" in the top left of your notebook to fully view the notebook\n",
    "    <br>c. Save your notebook\n",
    "    \n",
    "<div class=\"alert alert-block alert-danger\">\n",
    "    <i class=\"fa fa-exclamation-circle\" aria-hidden=\"true\"></i>\n",
    "    <b>Alert: </b>  Make sure that there are no other outputs than your jupyter quiz\n",
    "</div>\n",
    "\n",
    "5. In your Terminal enter the following command `jupyter nbconvert --no-input --to html path/to/Your_Quiz_Notebook_file.ipynb`. This command with export your quiz as HTML and only your quiz will show not the input commands\n",
    "    \n",
    "6. Enter the code below, replace the HTML file with the path to your html file\n",
    "\n",
    "<div class=\"alert alert-block alert-success\">\n",
    "    <i class=\"fa fa-hand-paper-o\" aria-hidden=\"true\"></i>\n",
    "    <b>Note: </b> Only need to do this once as the user will see the quiz already loaded\n",
    "</div>\n"
   ]
  },
  {
   "cell_type": "code",
   "execution_count": null,
   "id": "5a66bcc8-2600-43eb-8cfe-e5ad6a05e68a",
   "metadata": {},
   "outputs": [],
   "source": [
    "from IPython.display import IFrame\n",
    "IFrame('html/quiz_example.html', width=800, height=400)"
   ]
  },
  {
   "cell_type": "markdown",
   "id": "ada3a14e-4dc8-45d6-8ec3-2c74f9814d38",
   "metadata": {},
   "source": [
    "### Jupytercards"
   ]
  },
  {
   "cell_type": "markdown",
   "id": "cd6b4b6e-419d-4f14-a457-cbc053324e6d",
   "metadata": {},
   "source": [
    "1. Enable Jupyter extensions by clicking on the puzzle piece icon  <img src=\"images/extension.png\" width=\"20\" height=\"20\"> then click <img src=\"images/enable.png\" width=\"50\" height=\"50\">.\n",
    "2. Install <b>jupytercards</b> `pip install jupytercards` if you havent already. Make sure you are using a Python Kernel\n",
    "3. Create a JSON jupytercards file to hold your flashcards\n",
    "\n",
    "4. Create a jupyter notebook for only displaying your flashcards\n",
    "    <br>a. You can use the following commands to display your quiz: \n",
    "    ```\n",
    "            from jupytercards import display_flashcards\n",
    "            display_flashcards('path/to/flashcard_file.json')\n",
    "    ```       \n",
    "    b. If your flashcards is not displayed you may need to make sure you press \"Trust HTML\" in the top left of your notebook to fully view the notebook\n",
    "    <br>c. Save your notebook\n",
    "    \n",
    "<div class=\"alert alert-block alert-danger\">\n",
    "    <i class=\"fa fa-exclamation-circle\" aria-hidden=\"true\"></i>\n",
    "    <b>Alert: </b>  Make sure that there are no other outputs than your jupyter flashcards\n",
    "</div>\n",
    "\n",
    "5. In your Terminal enter the following command `jupyter nbconvert --no-input --to html path/to/Your_Flashquiz_Notebook_file.ipynb`. This command with export your flashcards as HTML and only your cards will show not the input commands\n",
    "    \n",
    "6. Enter the code below, replace the HTML file with the path to your html file\n",
    "\n",
    "<div class=\"alert alert-block alert-success\">\n",
    "    <i class=\"fa fa-hand-paper-o\" aria-hidden=\"true\"></i>\n",
    "    <b>Note: </b> Only need to do this once as the user will see the flashcards already loaded\n",
    "</div>\n"
   ]
  },
  {
   "cell_type": "code",
   "execution_count": null,
   "id": "34efb55e-deca-433c-b311-dfece2f17a7d",
   "metadata": {},
   "outputs": [],
   "source": [
    "from IPython.display import IFrame\n",
    "IFrame('html/flashcard_example.html', width=800, height=400)"
   ]
  }
 ],
 "metadata": {},
 "nbformat": 4,
 "nbformat_minor": 5
}
