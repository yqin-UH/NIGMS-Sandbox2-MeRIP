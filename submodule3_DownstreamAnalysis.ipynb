{
 "cells": [
  {
   "cell_type": "markdown",
   "metadata": {},
   "source": [
    "# <b>Module 3 - Downstream Analysis and Visualization</b>\n",
    "--------------------------------------------"
   ]
  },
  {
   "cell_type": "markdown",
   "metadata": {},
   "source": [
    "## Overview\n",
    "In this module, we will explore downstream analyses and visualization techniques for MeRIP-seq data, focusing on differential methylation and gene expression data. This includes interpreting methylation patterns, functional enrichment, and integrating RNA methylation with gene expression to gain insights into condition-specific changes in samples from different conditions. The module will cover essential steps such as package installation, data preparation, meta-gene and volcano plot generation, functional enrichment analysis, and RNA methylation and gene expression integration."
   ]
  },
  {
   "cell_type": "markdown",
   "metadata": {},
   "source": [
    "## Learning Objectives\n",
    "+ **Learning Objective 1**: Understand the processes of downstream analysis and visualization for MeRIP-seq data, including differential methylation and gene expression analysis.\n",
    "+ **Learning Objective 2**: Develop practical skills in generating key visualizations:\n",
    "    - **2.1**: Create volcano plots to visualize significant differential methylation and gene expression changes.\n",
    "    - **2.2**: Generate meta-gene plots to illustrate methylation distribution across gene features.\n",
    "+ **Learning Objective 3**: Perform functional enrichment analysis to interpret the biological significance of differentially methylated or expressed genes.\n",
    "+ **Learning Objective 4**: Integrate differential RNA methylation and gene expression data to identify genes with both methylation and expression changes, and visualize these relationships.\n"
   ]
  },
  {
   "cell_type": "markdown",
   "metadata": {},
   "source": [
    "## Prerequisites\n",
    "All the data needed in this submodule will be downloaded from cloud storage (AWS S3) or directly from online resources. "
   ]
  },
  {
   "cell_type": "markdown",
   "metadata": {},
   "source": [
    "## Outline\n",
    "1. **Getting started**\n",
    "     - Install packages\n",
    "     - Set up environment, establishing input and output directories.\n",
    "     - Download data files.\n",
    "2. **RNA methylation data exploration and visualization**\n",
    "    - Volcano plot\n",
    "    - Meta-Gene plot\n",
    "3. **Functional enrichment analysis**\n",
    "    - Gene Ontology (GO) Enrichment Analysis\n",
    "    - KEGG pathway Enrichment analysis\n",
    "4. **Integration of RNA Methylation and Gene Expression** \n",
    "    - Extract gene expression data from Input samples\n",
    "    - Differential gene expression analysis (DESeq2)\n",
    "    - Integrate gene expression and RNA methylation\n",
    "    "
   ]
  },
  {
   "cell_type": "markdown",
   "metadata": {},
   "source": [
    "----\n",
    "## <b>1. Get Started</b>\n"
   ]
  },
  {
   "cell_type": "markdown",
   "metadata": {},
   "source": [
    "### 1.1 Install packages <mark style=\"background-color:AntiqueWhite;\">(⏰ ~40 minites)</mark>"
   ]
  },
  {
   "cell_type": "code",
   "execution_count": null,
   "metadata": {},
   "outputs": [],
   "source": [
    "start_time <- Sys.time()\n",
    "# Ensure BiocManager and devtools are installed\n",
    "if (!require(\"BiocManager\", quietly = TRUE)) {\n",
    "    install.packages(\"BiocManager\")\n",
    "    message(\" --- Installation of BiocManager is done. ---\")\n",
    "}\n",
    "\n",
    "if (!require(\"devtools\", quietly = TRUE)) {\n",
    "    install.packages(\"devtools\")\n",
    "    message(\" --- Installation of devtools is done. ---\")\n",
    "}\n",
    "\n",
    "# Function to install packages if they are not already installed\n",
    "install_if_missing <- function(packages, source = \"CRAN\") {\n",
    "    missing_packages <- packages[!packages %in% installed.packages()[, \"Package\"]]\n",
    "    if (length(missing_packages) > 0) {\n",
    "        if (source == \"Bioconductor\") {\n",
    "            BiocManager::install(missing_packages)\n",
    "        } else if (source == \"GitHub\") {\n",
    "            sapply(missing_packages, devtools::install_github)\n",
    "        } else {\n",
    "            install.packages(missing_packages)\n",
    "        }\n",
    "        message(\" --- Installation of \", paste(missing_packages, collapse = \", \"), \" is done. ---\")\n",
    "    } else {\n",
    "        message(\" --- All specified packages are already installed. ---\")\n",
    "    }\n",
    "}\n",
    "\n",
    "# CRAN packages\n",
    "cran_packages <- c(\"data.table\",\"R.util\",\"Rcpp\", \"ggplot2\", \"doParallel\", \"foreach\", \"gplots\", \"RColorBrewer\", \"RcppArmadillo\", \"BH\")\n",
    "install_if_missing(cran_packages)\n",
    "\n",
    "# Bioconductor packages\n",
    "bioc_packages <- c(\"Rsamtools\", \"GenomicFeatures\", \"DESeq2\", \"qvalue\", \"txdbmaker\",\"BSgenome.Hsapiens.UCSC.hg38\",\n",
    "                   \"Guitar\",\"GenomicRanges\",\"EnhancedVolcano\", \"clusterProfiler\", \"org.Hs.eg.db\") # \"Guitar\", \"clusterProfiler\", \"org.Hs.eg.db\",\n",
    "install_if_missing(bioc_packages, source = \"Bioconductor\")\n",
    "# Bioconductor packages (needed in section 5)\n",
    "#bioc_packages2 <- c(\"GenomicRanges\", \"ChIPpeakAnno\", \"VennDiagram\", \"rtracklayer\", \"ggplot2\")\n",
    "#install_if_missing(bioc_packages2, source = \"Bioconductor\")\n",
    "\n",
    "# GitHub packages\n",
    "#github_packages <- c(\"scottzijiezhang/MeRIPtools\")\n",
    "#install_if_missing(github_packages, source = \"GitHub\")\n",
    "devtools::install_github(\"scottzijiezhang/MeRIPtools\",build_vignettes=F)\n",
    "\n",
    "end_time <- Sys.time()\n",
    "\n",
    "# Calculate and print the duration\n",
    "duration <- end_time - start_time\n",
    "print(paste(\"Time taken:\", duration))"
   ]
  },
  {
   "cell_type": "markdown",
   "metadata": {},
   "source": [
    "### 1.2 Setting up directory structures\n",
    "Establishing input and output directories"
   ]
  },
  {
   "cell_type": "code",
   "execution_count": null,
   "metadata": {},
   "outputs": [],
   "source": [
    "if (!file.exists(\"Tutorial_3\")){\n",
    "    dir.create(file.path(\"Tutorial_3\"))\n",
    "    #dir.create(file.path(\"Tutorial_3/bam\"))\n",
    "    #dir.create(file.path(\"Tutorial_3/RADAR\"))\n",
    "}\n",
    "setwd(file.path(\"Tutorial_3\"))\n",
    "getwd()"
   ]
  },
  {
   "cell_type": "markdown",
   "metadata": {},
   "source": [
    "### 1.3 Download full dataset (processed) from GEO database"
   ]
  },
  {
   "cell_type": "code",
   "execution_count": null,
   "metadata": {},
   "outputs": [],
   "source": [
    "# RADAR processed data\n",
    "radar_diff_url <- \"https://www.ncbi.nlm.nih.gov/geo/download/?acc=GSE119168&format=file&file=GSE119168%5FDiff%5Fpeaks%5FageCov%2Exls%2Egz\"\n",
    "download.file(radar_diff_url, \"GSE119168_Diff_peaks_ageCov.xls.gz\") \n",
    "radar_readcounts_url <- \"https://www.ncbi.nlm.nih.gov/geo/download/?acc=GSE119168&format=file&file=GSE119168%5FreadCounts%2Etsv%2Egz\"\n",
    "download.file(radar_readcounts_url, \"GSE119168_readCounts.tsv.gz\")\n",
    "\n",
    "# NCBI-generated RNA-seq raw counts matrix\n",
    "rnaseq_raw_count_url <- \"https://www.ncbi.nlm.nih.gov/geo/download/?type=rnaseq_counts&acc=GSE119168&format=file&file=GSE119168_raw_counts_GRCh38.p13_NCBI.tsv.gz\"\n",
    "download.file(rnaseq_raw_count_url, \"GSE119168_raw_counts_GRCh38.p13_NCBI.tsv.gz\")"
   ]
  },
  {
   "cell_type": "markdown",
   "metadata": {},
   "source": [
    "#### Load full dataset differential methylation data"
   ]
  },
  {
   "cell_type": "code",
   "execution_count": null,
   "metadata": {},
   "outputs": [],
   "source": [
    "library(\"data.table\")\n",
    "Diff_peaks_cov <- fread(\"GSE119168_Diff_peaks_ageCov.xls.gz\")\n",
    "head(Diff_peaks_cov)"
   ]
  },
  {
   "cell_type": "markdown",
   "metadata": {},
   "source": [
    "**Volcano plot** is a popular visualization tool for displaying differentially expressed genes or features in a dataset. It plots log2 fold changes (showing the magnitude of change) on the x-axis and -log10 p-values (indicating statistical significance) on the y-axis. Genes with high fold changes and high significance appear at the plot’s corners, making it easy to identify the most strongly differentially expressed genes. \n",
    "\n",
    "Here is the volcano plot of the RADAR processed differentially methylated genes in the example dataset. Since all the genes/features included in the files are differentially methylated (pre-filtered already), the cutoffs (using default settings of <code>EnhanceVolcano</code>) of the pvalue in the volcano plot is 1e-06 and log2 fold change cutoff is 2, to show the most significant genes that are methylated."
   ]
  },
  {
   "cell_type": "code",
   "execution_count": null,
   "metadata": {},
   "outputs": [],
   "source": [
    "library(\"EnhancedVolcano\")\n",
    "options(repr.plot.width=12, repr.plot.height=10)\n",
    "EnhancedVolcano(Diff_peaks_cov,\n",
    "                title = \"Differentially methylated RNAs: Tumor vs. Normal\",\n",
    "                lab = Diff_peaks_cov$name,\n",
    "                x = 'logFC',\n",
    "                y = 'p_value',\n",
    "                xlim=c(-5,5),\n",
    "                ylim=c(2,13),\n",
    "                xlab = bquote(~Log[2]~ 'fold change'),\n",
    "                cutoffLineType = 'twodash',\n",
    "                cutoffLineWidth = 0.8,\n",
    "                pointSize = 2,\n",
    "                col = c('#cccccc', '#56B4E9', '#999999', '#E69F00'),\n",
    "                colAlpha = 4/5,\n",
    "                labSize = 4,\n",
    "                legendPosition = 'right',\n",
    "                legendLabSize = 14,\n",
    "                legendIconSize = 4.0,\n",
    "                drawConnectors = TRUE,\n",
    "                widthConnectors = 0.5,\n",
    "                colConnectors = 'black',\n",
    "                border = \"full\")"
   ]
  },
  {
   "cell_type": "markdown",
   "metadata": {},
   "source": [
    "#### Load full dataset read counts data (bins) by RADAR"
   ]
  },
  {
   "cell_type": "code",
   "execution_count": null,
   "metadata": {},
   "outputs": [],
   "source": [
    "readcounts <- fread(\"GSE119168_readCounts.tsv.gz\")\n",
    "readcounts <- data.frame(readcounts,row.names=1)\n",
    "head(readcounts)"
   ]
  },
  {
   "cell_type": "markdown",
   "metadata": {},
   "source": [
    "## <b>2. Meta-Gene plot</b>\n",
    "A meta-gene plot is a visualization technique used in genomics to summarize read coverage or signal intensity across defined regions of interest, typically around gene bodies or specific genomic features, such as transcription start sites or methylation sites. In MeRIP-seq data analysis, a meta-gene plot helps illustrate the distribution of RNA methylation (like m6A) along genes, providing insights into where methylation commonly occurs, such as in the 5’ UTR, CDS, or 3’ UTR regions. This is helpful in MeRIP-seq studies because it allows researchers to observe patterns of methylation enrichment across genes, which can inform on potential regulatory roles of RNA modifications in gene expression. By comparing meta-gene plots across conditions, researchers can also identify shifts in methylation patterns, shedding light on condition-specific or disease-related changes in RNA methylation."
   ]
  },
  {
   "cell_type": "markdown",
   "metadata": {},
   "source": [
    "### 2.1 Download GTF annotation file\n",
    "For the organism being analyzed, user need to provide an annotation file in gtf format to define the genomic coordinate of gene features. A good source to download those supporting files are <a href=\"https://support.illumina.com/sequencing/sequencing_software/igenome.html\">iGenome</a>. Alternatively, the <a href=\"https://www.gencodegenes.org/\">GENCODE</a> is also a good source for annotation if you are interested in human and mouse genome. In our example, we use the human annotated genome downloaded from GENCODE."
   ]
  },
  {
   "cell_type": "code",
   "execution_count": null,
   "metadata": {},
   "outputs": [],
   "source": [
    "system(\"wget https://ftp.ebi.ac.uk/pub/databases/gencode/Gencode_human/release_46/gencode.v46.basic.annotation.gtf.gz\")\n",
    "system(\"gzip -d gencode.v46.basic.annotation.gtf.gz\")"
   ]
  },
  {
   "cell_type": "markdown",
   "metadata": {},
   "source": [
    "### 2.2 Generate meta-gene plot <mark style=\"background-color:AntiqueWhite;\">(⏰ ~5 minites)</mark>\n",
    "The <code>plotMetaGene</code> function in <code>MeRIPtools</code> visualizes the distribution of methylated RNA peaks across defined genomic regions, such as gene bodies, in MeRIP-seq data. It is used to examine differentially methylated peaks across conditions by plotting read density along key regions, like 5’ or 3’ UTRs. The function can display methylation patterns for both mRNA and lncRNA transcripts, enabling comparisons between them. This distinction is useful as mRNA methylation often influences translation and stability, while lncRNA methylation may affect structure and molecular interactions.\n",
    "\n",
    "<img src=\"images/3-metaGeneplot.png\" width=\"600\" />"
   ]
  },
  {
   "cell_type": "code",
   "execution_count": null,
   "metadata": {},
   "outputs": [],
   "source": [
    "library(\"MeRIPtools\")\n",
    "library(ggsci)\n",
    "options(repr.plot.width=14, repr.plot.height=6)\n",
    "plotMetaGene(Diff_peaks_cov,\"gencode.v46.basic.annotation.gtf\")"
   ]
  },
  {
   "cell_type": "markdown",
   "metadata": {},
   "source": [
    "## <b>3. Functional enrichment analysis</b>\n",
    "There are two major types of enrichment analysis:\n",
    "1. **Over Representation Analysis (ORA)** (Boyle et al. 2004) is a widely used approach to determine whether known biological functions or processes are over-represented (= enriched) in an experimentally-derived gene list, e.g. a list of differentially expressed genes (DEGs). This approach will find genes where the difference is large and will fail where the difference is small, but evidenced in coordinated way in a set of related genes.\n",
    "2. **Gene Set Enrichment Analysis (GSEA)** (Subramanian et al. 2005) aggregates the per gene statistics across genes within a gene set, therefore making it possible to detect situations where all genes in a predefined set change in a small but coordinated way. This is important since it is likely that many relevant phenotypic differences are manifested by small but consistent changes in a set of genes. Genes are ranked based on their phenotypes. Given apriori defined set of gene S (e.g., genes sharing the same DO category), the goal of GSEA is to determine whether the members of S are randomly distributed throughout the ranked gene list (L) or primarily found at the top or bottom.\n",
    "\n",
    "Here, we use **ORA** to showcase the functional enrichment analysis. To begin with, load required packages and rename the genes:"
   ]
  },
  {
   "cell_type": "code",
   "execution_count": null,
   "metadata": {},
   "outputs": [],
   "source": [
    "library(clusterProfiler)\n",
    "library(org.Hs.eg.db)\n",
    "eg_diffPeak_cov <- bitr(unique(Diff_peaks_cov$name), fromType=\"SYMBOL\", toType=\"ENTREZID\", OrgDb=\"org.Hs.eg.db\")"
   ]
  },
  {
   "cell_type": "markdown",
   "metadata": {},
   "source": [
    "### 3.1 GO enrichment analysis \n",
    "Gene Ontology (GO) defines concepts/classes used to describe gene function, and relationships between these concepts. It classifies functions along three aspects:\n",
    "- MF (Molecular Function): molecular activities of gene products\n",
    "- CC (Cellular Component): where gene products are active\n",
    "- BP (Biological Process): pathways and larger processes made up of the activities of multiple gene products\n",
    "\n",
    "GO terms are organized in a directed acyclic graph, where edges between terms represent parent-child relationship.\n",
    "\n"
   ]
  },
  {
   "cell_type": "code",
   "execution_count": null,
   "metadata": {},
   "outputs": [],
   "source": [
    "library(clusterProfiler)\n",
    "library(org.Hs.eg.db)\n",
    "eg_diffPeak_cov <- bitr(unique(Diff_peaks_cov$name), fromType=\"SYMBOL\", toType=\"ENTREZID\", OrgDb=\"org.Hs.eg.db\")\n",
    "ego_diffPeak_cov <- enrichGO(gene  = eg_diffPeak_cov$ENTREZID,\n",
    "                #universe      = bitr(rownames(RADAR@geneSum), fromType=\"SYMBOL\", toType=\"ENTREZID\", OrgDb=\"org.Hs.eg.db\")$ENTREZID,\n",
    "                OrgDb         = org.Hs.eg.db,\n",
    "                ont           = \"BP\",\n",
    "                pAdjustMethod = \"BH\",\n",
    "                pvalueCutoff  = 0.01,\n",
    "                qvalueCutoff  = 0.05,\n",
    "        readable      = TRUE)\n",
    "head(ego_diffPeak_cov)"
   ]
  },
  {
   "cell_type": "code",
   "execution_count": null,
   "metadata": {},
   "outputs": [],
   "source": [
    "library(enrichplot)\n",
    "options(repr.plot.width=14, repr.plot.height=6)\n",
    "barplot(ego_diffPeak_cov, showCategory=15) + dotplot(ego_diffPeak_cov, showCategory=15)"
   ]
  },
  {
   "cell_type": "markdown",
   "metadata": {},
   "source": [
    "**Enrichment map** organizes enriched terms into a network with edges connecting overlapping gene sets. In this way, mutually overlapping gene sets are tend to cluster together, making it easy to identify functional module.\n",
    "\n",
    "The <code>emapplot</code> function supports results obtained from hypergeometric test and gene set enrichment analysis. The cex_category parameter can be used to resize nodes"
   ]
  },
  {
   "cell_type": "code",
   "execution_count": null,
   "metadata": {},
   "outputs": [],
   "source": [
    "ego_diffPeak_cov <- pairwise_termsim(ego_diffPeak_cov)\n",
    "emapplot(ego_diffPeak_cov,showCategory = 25)+theme(legend.text = element_text(face = \"bold\"),legend.title = element_text(face = \"bold\") )"
   ]
  },
  {
   "cell_type": "markdown",
   "metadata": {},
   "source": [
    "### KEGG enrichment analysis\n",
    "KEGG (Kyoto Encyclopedia of Genes and Genomes) is a collection of manually drawn pathway maps representing molecular interaction and reaction networks. These pathways cover a wide range of biochemical processes that can be divided into 7 broad categories:\n",
    "* Metabolism\n",
    "* Genetic information processing\n",
    "* Environmental information processing\n",
    "* Cellular processes\n",
    "* Organismal systems\n",
    "* Human diseases\n",
    "* Drug development."
   ]
  },
  {
   "cell_type": "code",
   "execution_count": null,
   "metadata": {},
   "outputs": [],
   "source": [
    "# KEGG pathway analysis\n",
    "KEGG_diffPeak_cov <- enrichKEGG(eg_diffPeak_cov$ENTREZID,organism = \"hsa\",pAdjustMethod = \"none\", pvalueCutoff = 0.05,minGSSize = 3)\n",
    "head(KEGG_diffPeak_cov)\n",
    "\n",
    "# bar and dot plots\n",
    "barplot(KEGG_diffPeak_cov, showCategory=15) + dotplot(KEGG_diffPeak_cov, showCategory=15)\n",
    "\n",
    "# enrichment map\n",
    "KEGG_diffPeak_cov <- pairwise_termsim(KEGG_diffPeak_cov)\n",
    "emapplot(KEGG_diffPeak_cov,showCategory = 25)+theme(legend.text = element_text(face = \"bold\"),legend.title = element_text(face = \"bold\") )"
   ]
  },
  {
   "cell_type": "markdown",
   "metadata": {},
   "source": [
    "## <b>4. Integration of RNA methylation and gene expression</b>\n",
    "\n",
    "### 4.1 use Input samples to get the gene expression profile"
   ]
  },
  {
   "cell_type": "code",
   "execution_count": null,
   "metadata": {},
   "outputs": [],
   "source": [
    "# copy the data from s3 bucket to Tutorial_3 directory\n",
    "system(\"aws s3 cp s3://ovarian-cancer-example-fastqs/submodule3/sample_info.txt .\")\n",
    "\n",
    "# load Sample information\n",
    "samples <- data.frame(fread(\"sample_info.txt\"),row.names=2)\n",
    "samples <- subset(samples, Sample_description==\"total RNA\") # the other description is: m6A enriched RNA\n",
    "samples$group <- factor(ifelse(grepl(\"normal\",samples$Group), \"normal\", \"tumor\"))\n",
    "samples"
   ]
  },
  {
   "cell_type": "code",
   "execution_count": null,
   "metadata": {},
   "outputs": [],
   "source": [
    "# load input gene count matrix\n",
    "read_counts <- fread(\"GSE119168_raw_counts_GRCh38.p13_NCBI.tsv.gz\")\n",
    "read_counts <- data.frame(read_counts,row.names=1)\n",
    "dim(read_counts)\n",
    "\n",
    "# Keep the input samples only\n",
    "cts <- read_counts[,rownames(samples)]\n",
    "dim(cts)"
   ]
  },
  {
   "cell_type": "markdown",
   "metadata": {},
   "source": [
    "### 4.2 DESeq2 differential gene expression analysis"
   ]
  },
  {
   "cell_type": "code",
   "execution_count": null,
   "metadata": {},
   "outputs": [],
   "source": [
    "library(DESeq2)\n",
    "\n",
    "#Create the DEseq2DataSet object\n",
    "dds <- DESeqDataSetFromMatrix(countData = cts, colData = samples, design= ~ Age + group)\n",
    "\n",
    "# Perform pre-filtering of the data\n",
    "dds <- dds[rowSums(counts(dds)) > 10, ]\n",
    "\n",
    "# Run pipeline for differential expression steps\n",
    "dds <- DESeq(dds)\n",
    "resultsNames(dds) # lists the coefficients\n",
    "\n",
    "# show results of contrast comparisons\n",
    "res <- results(dds, contrast = c(\"group\", \"tumor\", \"normal\"))\n",
    "summary(res)"
   ]
  },
  {
   "cell_type": "markdown",
   "metadata": {},
   "source": [
    "**Volcano plot** of the differential expressed genes"
   ]
  },
  {
   "cell_type": "code",
   "execution_count": null,
   "metadata": {},
   "outputs": [],
   "source": [
    "# annotate GENEID to gene symbol\n",
    "library(\"clusterProfiler\")\n",
    "library(\"org.Hs.eg.db\")\n",
    "res_symbol <- bitr(rownames(res), fromType=\"ENTREZID\", toType=\"SYMBOL\", OrgDb=\"org.Hs.eg.db\")\n",
    "res_symbol <- data.frame(res_symbol,row.names=1)\n",
    "\n",
    "# visualization of the Deseq2 restuls\n",
    "library(\"EnhancedVolcano\")\n",
    "\n",
    "options(repr.plot.width=12, repr.plot.height=10)\n",
    "EnhancedVolcano(res,\n",
    "                lab = res_symbol[rownames(res),],\n",
    "                title = 'Gene expression: tumor vs. normal',\n",
    "                x = 'log2FoldChange',\n",
    "                y = 'padj',\n",
    "                ylim=c(0,7),\n",
    "                pCutoff = 0.05,\n",
    "                xlab = bquote(~Log[2]~ 'fold change'),\n",
    "                cutoffLineType = 'twodash',\n",
    "                cutoffLineWidth = 0.8,\n",
    "                pointSize = 2,\n",
    "                col = c('#cccccc', '#56B4E9', '#999999', '#E69F00'),\n",
    "                colAlpha = 4/5,\n",
    "                labSize = 4,\n",
    "                legendPosition = 'right',\n",
    "                legendLabSize = 14,\n",
    "                legendIconSize = 4.0,\n",
    "                drawConnectors = TRUE,\n",
    "                widthConnectors = 0.5,\n",
    "                colConnectors = 'black',\n",
    "                border = \"full\")"
   ]
  },
  {
   "cell_type": "markdown",
   "metadata": {},
   "source": [
    "### 4.3 Integration of gene expression and RNA methylation differential results"
   ]
  },
  {
   "cell_type": "code",
   "execution_count": null,
   "metadata": {},
   "outputs": [],
   "source": [
    "# gene expression results\n",
    "res <- results(dds, contrast = c(\"group\", \"tumor\", \"normal\"))\n",
    "de <- as.data.frame(res)\n",
    "de$gene <- res_symbol[rownames(de),]\n",
    "de <- de[!is.na(de$gene) & de$pvalue<0.05 & abs(de$log2FoldChange)>1,]\n",
    "dim(de)\n",
    "\n",
    "# RNA methylation results \n",
    "dmr <- Diff_peaks_cov[,c(\"name\",\"logFC\",\"p_value\")]\n",
    "dim(dmr)\n",
    "\n",
    "# join two results \n",
    "combined <- merge(x=de, y=dmr, by.x=\"gene\",by.y=\"name\")\n",
    "dim(combined)\n",
    "head(combined)"
   ]
  },
  {
   "cell_type": "code",
   "execution_count": null,
   "metadata": {},
   "outputs": [],
   "source": [
    "# integration volcano plot\n",
    "library(ggplot2)\n",
    "fc_cutoff <- 1.5\n",
    "df <- combined\n",
    "df$class[df$log2FoldChange >= fc_cutoff & df$logFC >= fc_cutoff]  <- \"A\"\n",
    "df$class[df$log2FoldChange >= fc_cutoff & df$logFC <= -fc_cutoff]  <- \"B\"\n",
    "df$class[df$log2FoldChange <= -fc_cutoff & df$logFC >= fc_cutoff]  <- \"C\"\n",
    "df$class[df$log2FoldChange <= -fc_cutoff & df$logFC <= -fc_cutoff]  <- \"D\"\n",
    "table(df$class)\n",
    "df[is.na(df$class),\"class\"] <-  \"E\"\n",
    "df$label <- ifelse(df$class==\"E\", \"\", df$gene)\n",
    "\n",
    "cols <- c(\"#CC79A7\", \"#0072B2\", \"#D55E00\", \"#E69F00\", \"#999999\")\n",
    "ggplot(df, aes(x=log2FoldChange, y=logFC, color=class)) + \n",
    "    geom_point(aes(size=-log10(padj)),shape = 16,  show.legend = FALSE, alpha = .7) + #size = 2.5,\n",
    "    scale_color_manual(values = cols) + \n",
    "    geom_vline(xintercept = c(-fc_cutoff, fc_cutoff),linetype=\"dashed\") + \n",
    "    geom_hline(yintercept = c(-fc_cutoff, fc_cutoff),linetype=\"dashed\") +\n",
    "    geom_text_repel(aes(label=label)) +\n",
    "    labs(x= \"Log2FC (gene expression)\", y=\"Log2FC (RNA methylation)\",title=\"Tumor vs. Normal\") +\n",
    "    theme(legend.position=\"none\",\n",
    "          panel.background=element_rect(fill=\"grey95\"),\n",
    "          panel.border = element_rect(color = \"black\",fill = NA,linewidth = 2),\n",
    "          plot.title = element_text(size=20,hjust=0.5),\n",
    "          axis.text = element_text(size=15),\n",
    "          axis.title = element_text(size=20)) "
   ]
  },
  {
   "cell_type": "markdown",
   "metadata": {},
   "source": [
    "## Conclusion\n",
    "Provide an overview of the lessons and skills learned from the module."
   ]
  },
  {
   "cell_type": "markdown",
   "metadata": {},
   "source": [
    "## Clean up\n",
    "A reminder to shutdown VM and delete any relevant resources. <br><br>"
   ]
  }
 ],
 "metadata": {},
 "nbformat": 4,
 "nbformat_minor": 4
}
