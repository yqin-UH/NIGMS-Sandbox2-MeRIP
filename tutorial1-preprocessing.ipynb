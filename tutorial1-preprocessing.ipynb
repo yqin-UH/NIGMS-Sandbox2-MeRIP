{
 "cells": [
  {
   "cell_type": "markdown",
   "metadata": {},
   "source": [
    "# <b>Module 1 - MeRIP-seq Data Acquisition and Preprocessing</b>"
   ]
  },
  {
   "cell_type": "markdown",
   "metadata": {},
   "source": [
    "## Overview\n",
    "This module will guide you through the acquisition and preprocessing of MeRIP-seq data, including essential steps such as quality control, adapter trimming, reference genome preparation, read alignment, peak calling, and motif discovery. The focus is on understanding how to process raw MeRIP-seq data to prepare it for downstream analysis."
   ]
  },
  {
   "cell_type": "markdown",
   "metadata": {},
   "source": [
    "## Learning Objectives\n",
    "+ Explore an example MeRIP-seq dataset and its experiment design\n",
    "+ Understand the core steps involved in preprocessing MeRIP-seq data\n",
    "    - quality control, alignment, m6A peak identification, and annotation.\n",
    "    - get familiar with the bioinformatics tools and important parameters for MeRIP-seq analysis\n",
    "+ Data Visualization using IGV\n",
    "    - understand the role of file formats (e.g., BAM, BED, BigWig) in genomic data visualization\n",
    "    - explore and interpret alignment and m6A peak data for biological insights"
   ]
  },
  {
   "cell_type": "markdown",
   "metadata": {
    "tags": []
   },
   "source": [
    "## <mark>Prerequisites</mark>\n",
    "- APIs that should be enabled: AWS S3 (Example dataset are stored there)\n",
    "- List cloud platform account roles that must be assigned.\n",
    "- List necessary cloud platform access."
   ]
  },
  {
   "cell_type": "markdown",
   "metadata": {
    "tags": []
   },
   "source": [
    "## Outline\n",
    "- **Getting started**\n",
    "    1. Installing packages\n",
    "    2. Setting up directory structures\n",
    "    3. Downloading the Example Dataset\n",
    "- **Step-by-Step Data Preprocessing**\n",
    "    1. Quality Control \n",
    "    2. Read alignment\n",
    "    3. Peak Calling and annotaion\n",
    "    4. Motif Discovery\n",
    "- **Data Visualization with IGV**\n",
    "    1. View Alignments (BAM, bigWig)\n",
    "    2. View identified m6A Peaks (BED, bedGraph)"
   ]
  },
  {
   "cell_type": "markdown",
   "metadata": {
    "tags": []
   },
   "source": [
    "---\n",
    "## **1. Getting started**\n",
    "### 1.1 Installing packages\n",
    "[**mamba**](https://mamba.readthedocs.io/en/latest/user_guide/mamba.html) is a re-implementation of the **conda** package manager in C++. It is designed to address some of the performance limitations of conda, offering faster environment creation, package installation, and dependency resolution. Mamba is fully compatible with the conda ecosystem, meaning it can be used as a drop-in replacement for conda, providing access to the same package repositories."
   ]
  },
  {
   "cell_type": "code",
   "execution_count": null,
   "metadata": {
    "scrolled": true,
    "tags": []
   },
   "outputs": [],
   "source": [
    "! curl -L -O \"https://github.com/conda-forge/miniforge/releases/latest/download/Miniforge3-$(uname)-$(uname -m).sh\"\n",
    "! bash Miniforge3-$(uname)-$(uname -m).sh -b -p $HOME/mambaforge"
   ]
  },
  {
   "cell_type": "markdown",
   "metadata": {},
   "source": [
    "Installation of the tools for this tutorial using <code>mamba</code>:"
   ]
  },
  {
   "cell_type": "code",
   "execution_count": null,
   "metadata": {
    "scrolled": true,
    "tags": []
   },
   "outputs": [],
   "source": [
    "! mamba install -y -c conda-forge -c bioconda \\\n",
    "    fastqc \\\n",
    "    multiqc \\\n",
    "    trim-galore \\\n",
    "    star \\\n",
    "    bedtools \\\n",
    "    samtools \\\n",
    "    deeptools \\\n",
    "    ucsc-bigwigmerge \\\n",
    "    homer"
   ]
  },
  {
   "cell_type": "markdown",
   "metadata": {},
   "source": [
    "Install **addtional** packages and tools:\n",
    "- human genome <code>hg38</code> for HOMER\n",
    "- a Python package <code>igv-notebook</code> for embedding IGV (Integrative Genomics Viewer) in an IPyhon notebook."
   ]
  },
  {
   "cell_type": "code",
   "execution_count": null,
   "metadata": {},
   "outputs": [],
   "source": [
    "# install homer human genome\n",
    "! perl /home/ec2-user/anaconda3/envs/python3/share/homer/.//configureHomer.pl -install hg38\n",
    "# install IGV \n",
    "! pip install igv-notebook"
   ]
  },
  {
   "cell_type": "markdown",
   "metadata": {},
   "source": [
    "### 1.2 Setting up directory structures\n",
    "Establishing input and output directories"
   ]
  },
  {
   "cell_type": "code",
   "execution_count": null,
   "metadata": {
    "tags": []
   },
   "outputs": [],
   "source": [
    "! mkdir -p Tutorial_1\n",
    "! mkdir -p Tutorial_1/fastqc\n",
    "! mkdir -p Tutorial_1/trimmed\n",
    "! mkdir -p Tutorial_1/ref_genome\n",
    "! mkdir -p Tutorial_1/homer\n",
    "! mkdir -p Tutorial_1/igv"
   ]
  },
  {
   "cell_type": "markdown",
   "metadata": {},
   "source": [
    "### 1.3 Downloading/Preparing the example dataset\n",
    "#### About the dataset\n",
    "The dataset used in this tutorial is derived from **GSE119168**, which was originally published as part of the study using the **RADAR** pipeline for MeRIP-seq. The RADAR pipeline is a computational framework designed to identify m6A-modified regions in RNA, specifically focusing on high-throughput MeRIP-seq data analysis, and we will use it for downstream analysis in the next tutorial. The dataset includes six omental tumor tissues and seven normal fallopian tube tissues, and both input and m6A immunoprecipation libraries were sequenced by the NextSeq 500 platform at PE37 mode (pair-end, 37bp). \n",
    "\n",
    "For this tutorial, a subset of the original data has been selected, focusing specifically on chromosome 11 (chr11:1-1,000,000). This region was chosen to include the **HRAS** gene, which is a key gene implicated in cancer progression and is regulated by m6A methylation. The HRAS gene is highlighted in another study ([Pan, Yongbo, et al.  PNAS (2023)](https://www.pnas.org/doi/abs/10.1073/pnas.2302291120)), which demonstrates how m6A modifications on HRAS RNA influence tumor progression, making it a biologically relevant region for studying m6A methylation.\n",
    "\n",
    "The dataset provides a small, manageable region of the genome for tutorial purposes, enabling users to quickly process the data and explore m6A peak calling and motif discovery in the context of a known cancer-associated gene. \n",
    "\n",
    "This example dataset is stored at an AWS S3 bucket: s3://ovarian-cancer-example-fastqs"
   ]
  },
  {
   "cell_type": "code",
   "execution_count": null,
   "metadata": {
    "scrolled": true,
    "tags": []
   },
   "outputs": [],
   "source": [
    "# copy the data from s3 bucket to Tutorial_1 directory\n",
    "! aws s3 cp s3://ovarian-cancer-example-fastqs/ Tutorial_1 --recursive\n",
    "# decompress the sequence reads files\n",
    "! tar -zxvf Tutorial_1/fastqs.tar.gz -C Tutorial_1"
   ]
  },
  {
   "cell_type": "markdown",
   "metadata": {
    "tags": []
   },
   "source": [
    "---\n",
    "## **2. Step-by-Step Data Preprocessing**\n",
    "### 2.1 Quality control"
   ]
  },
  {
   "cell_type": "markdown",
   "metadata": {},
   "source": [
    "#### Step 1. FastQC \n",
    "[**FastQC**](https://www.bioinformatics.babraham.ac.uk/projects/fastqc/) is simple tool that allows you to do some quality control checks on raw sequence data coming from high-throughput sequencing pipelines. It provides a modular set of analyses that you can use to give a quick impression of whether your data has any problems of which you should be aware before doing any further analysis. You can find examples of \"good\" and \"bad\" sequencing data from the [FastQC](https://www.bioinformatics.babraham.ac.uk/projects/fastqc/) website, in section \"Example Reports\". \n",
    "\n",
    "Run FastQC on the sequence files and the fastqc reports will be saved in Tutorial_1/fastqc. The `for` loop iterates through all the fastq.gz files in the Tutorial_1 directory and run `fastqc` each one of them separately."
   ]
  },
  {
   "cell_type": "code",
   "execution_count": null,
   "metadata": {
    "tags": []
   },
   "outputs": [],
   "source": [
    "! for file in Tutorial_1/fastqs/*.gz; do fastqc -q -o Tutorial_1/fastqc \"${file}\"; done;"
   ]
  },
  {
   "cell_type": "markdown",
   "metadata": {},
   "source": [
    "#### MultiQC (optional)\n",
    "__[MultiQC](https://multiqc.info/)__ can aggregate results from bioinformatics analysis across many samples into a single report. In our case, it reads in the FastQC reports and generates a compiled report for all the eight analyzed FASTQ files, and the report will be saved in `Tutorial_1/multiqc`. We can also view the report in .html format:"
   ]
  },
  {
   "cell_type": "code",
   "execution_count": null,
   "metadata": {
    "tags": []
   },
   "outputs": [],
   "source": [
    "# Run multiqc to summarize all the fastqc reports\n",
    "! multiqc -f -p  Tutorial_1/fastqc -o Tutorial_1/multiqc\n",
    "\n",
    "# View multiqc report\n",
    "from IPython.display import IFrame\n",
    "IFrame(src='Tutorial_1/multiqc/multiqc_report.html', width=1200, height=400)"
   ]
  },
  {
   "cell_type": "markdown",
   "metadata": {},
   "source": [
    "#### Step 2. Adapter Trimming and Quality Filtering\n",
    "Adapter sequences should be removed from reads because they interfere with downstream analyses, such as alignment of reads to a reference. In the FastQC report, the adapter content plot shows the percentage of reads (y-axis), which has an adapter starting at a particular position along a read (x-axis). And if the reads were fragmentaed to lower than than the target molecule length, high propotion of reads with adapters will be observed (right).\n",
    "\n",
    "<img src=\"images/1-adapter_content.png\" width=400 />\n",
    "\n",
    "In this tutorial, we use __[Trim Galore!](https://www.bioinformatics.babraham.ac.uk/projects/trim_galore/)__ for adaptor trimming and quality control. Use the `--fastqc` flag to run FastQC again to check the trimming results. Use flag `-j` to indicate the number of cores to be used for trimming. This command will trim adapters from paired-end reads, save the results in the trimmed directory, and re-run FastQC on the trimmed data. **Note**: Don't forget to checkout the FastQC reports after adapter trimming."
   ]
  },
  {
   "cell_type": "code",
   "execution_count": null,
   "metadata": {
    "scrolled": true,
    "tags": []
   },
   "outputs": [],
   "source": [
    "! trim_galore -j 4 --paired --illumina -o Tutorial_1/trimmed --fastqc Tutorial_1/fastqs/*.gz"
   ]
  },
  {
   "cell_type": "markdown",
   "metadata": {},
   "source": [
    "### 2.2 Read alignment\n",
    "To determine where on the human genome our reads originated from, we will align our reads to the reference genome using **STAR** (Spliced Transcripts Alignment to a Reference). [STAR](https://github.com/alexdobin/STAR?tab=readme-ov-file) is an aligner designed to specifically address many of the challenges of RNA-seq data mapping using a strategy to account for spliced alignments. More details about how to use STAR can be found [here](https://hbctraining.github.io/Intro-to-rnaseq-hpc-O2/lessons/03_alignment.html).\n",
    "#### Step 1. Reference Genome Preparation\n",
    "For this tutorial, we are using reads that originate from a small subsection of chromosome 11 and so we are using only a small region of human chr1 (**chr11:1-1.5M**) as the reference genome. This subset of the reference genome should already be included with the example dataset provided in the earlier steps. However, for a full-scale alignment of a complete dataset, the entire human genome should be downloaded and indexed properly. The latest FASTA and GTF annotation files for the human genome can be obtained from [Gencode](https://www.gencodegenes.org/), with the FASTA file size being approximately 800 MB. Proper indexing of the genome is required before running alignment for comprehensive analyses."
   ]
  },
  {
   "cell_type": "code",
   "execution_count": null,
   "metadata": {
    "tags": []
   },
   "outputs": [],
   "source": [
    "# Generate Reference Genome Before using STAR\n",
    "! STAR --runThreadN 4 --runMode genomeGenerate \\\n",
    "    --genomeDir Tutorial_1/ref_genome \\\n",
    "    --genomeFastaFiles Tutorial_1/chr11_1.5M.fasta \\\n",
    "    --sjdbGTFfile Tutorial_1/gencode.v46.pri.chr11.1.5M.gtf \\\n",
    "    --genomeSAindexNbases 9"
   ]
  },
  {
   "cell_type": "markdown",
   "metadata": {},
   "source": [
    "<div class=\"alert alert-block alert-info\"> <b>Tip:</b> If we were building a fullscale human genome (THIS WILL TAKE HOURS), you can use commands similar as below: </a>. </div>\n",
    "<p style=\"background:#EEEEEE;color:black\"><code>! STAR --runThreadN 4 --runMode genomeGenerate --genomeDir ref/genome --genomeFastaFiles ref/GRCh38.primary_assembly.genome.fa --sjdbGTFfile ref/gencode.v46.primary_assembly.annotation.gtf </code></p>"
   ]
  },
  {
   "cell_type": "markdown",
   "metadata": {},
   "source": [
    "Once this job has successfully finished, we should have a STAR folder in the genome directory, with the following files: \n",
    "- chrLength.txt    \n",
    "- chrNameLength.txt    \n",
    "- chrName.txt    \n",
    "- chrStart.txt\n",
    "- exonGeTrInfo.tab\n",
    "- exonInfo.tab\n",
    "- geneInfo.tab\n",
    "- Genome\n",
    "- genomeParameters.txt\n",
    "- SA\n",
    "- SAindex\n",
    "- sjdbInfo.txt\n",
    "- sjdbList.fromGTF.out.tab\n",
    "- sjdbList.out.tab\n",
    "- transcriptInfo.tab"
   ]
  },
  {
   "cell_type": "markdown",
   "metadata": {},
   "source": [
    "#### Step 2. Aligning reads\n",
    "After the genome indices are generated, we can perform the read alignment using STAR. Note that the compressed fastq.gz files need to be decompressed before using STAR alignment. The output files will be in Tutorial_1/STAR directory."
   ]
  },
  {
   "cell_type": "code",
   "execution_count": null,
   "metadata": {
    "scrolled": true,
    "tags": []
   },
   "outputs": [],
   "source": [
    "%%bash\n",
    "\n",
    "# Decompress the trimmed fastq.gz file so STAR can read them\n",
    "for i in Tutorial_1/trimmed/*.gz; do\n",
    "    gzip -d $i\n",
    "done\n",
    "\n",
    "for i in Tutorial_1/trimmed/*_R1_val_1.fq; do\n",
    "    base_name=$(basename \"$i\" _R1_val_1.fq)\n",
    "   \n",
    "   # Run STAR with the proper parameters\n",
    "    STAR --runThreadN 4 \\\n",
    "         --genomeDir Tutorial_1/ref_genome \\\n",
    "         --readFilesIn \"$i\" \"${i/_R1_val_1.fq/_R2_val_2.fq}\" \\\n",
    "         --outFileNamePrefix Tutorial_1/STAR/\"$base_name\" \\\n",
    "         --outSAMtype BAM SortedByCoordinate \\\n",
    "         --quantMode TranscriptomeSAM GeneCounts\n",
    "done"
   ]
  },
  {
   "cell_type": "markdown",
   "metadata": {},
   "source": [
    "#### MutliQC (optional) \n",
    "Again, we can use multiQC to generate reports of alignment."
   ]
  },
  {
   "cell_type": "code",
   "execution_count": null,
   "metadata": {
    "tags": []
   },
   "outputs": [],
   "source": [
    "# Run multiqc to summarize all the alignment reports\n",
    "! multiqc -f -p  Tutorial_1/STAR -o Tutorial_1/multiqc\n",
    "\n",
    "# View multiqc report\n",
    "from IPython.display import IFrame\n",
    "IFrame(src='Tutorial_1/multiqc/multiqc_report.html', width=1200, height=400)"
   ]
  },
  {
   "cell_type": "markdown",
   "metadata": {},
   "source": [
    "### 2.3 Peak Calling and annotaion using HOMER\n",
    "[**HOMER**](http://homer.ucsd.edu/homer/) (Hypergeometric Optimization of Motif EnRichment) is a suite of tools for motif discovery and next-gen sequencing analysis.  It is a collection of command line programs for UNIX-style operating systems written mostly in Perl and C++, although some functionality requires additional tools to be installed as well (e.g. samtools, R, etc.). HOMER was primarily written as a de novo motif discovery algorithm and is well suited for finding 8-20 bp motifs in large scale genomics data.  HOMER contains many useful tools for analyzing ChIP-Seq, GRO-Seq, RNA-Seq, DNase-Seq, Hi-C and numerous other types of functional genomics sequencing data sets.\n",
    "#### Step 1. Convert BAM to HOMER tag directory\n",
    "To facilitate the analysis of MeRIP-seq, it is useful to first transform the sequence alignment into platform independent data structure representing the experiment, analogous to loading the data into a database.  HOMER does this by placing all relevant information about the experiment into a \"Tag Directory\". During the creation of tag directories, several quality control routines are run to help provide information and feedback about the quality of the experiment. During this phase several important parameters are estimated that are later used for downstream analysis, such as the estimated length of MeRIP-Seq fragments.\n",
    "\n",
    "Here, we combined the read alignments from the same group (tumor vs. normal, input vs. m6A-IP）together to identify peaks for each group."
   ]
  },
  {
   "cell_type": "code",
   "execution_count": null,
   "metadata": {
    "scrolled": true,
    "tags": []
   },
   "outputs": [],
   "source": [
    "# Convert BAM to HOMER tag directory\n",
    "! makeTagDirectory Tutorial_1/homer/tagDirectory-tumor-input -format sam $(ls Tutorial_1/STAR/*ByCoord.out.bam | grep -E '3558|3559|3560|3561|3562|3563')\n",
    "! makeTagDirectory Tutorial_1/homer/tagDirectory-normal-input -format sam $(ls Tutorial_1/STAR/*ByCoord.out.bam | grep -E '3564|3565|3566|3567|3568|3569|3570')\n",
    "! makeTagDirectory Tutorial_1/homer/tagDirectory-tumor-m6AIP -format sam $(ls Tutorial_1/STAR/*ByCoord.out.bam | grep -E '3571|3572|3573|3574|3575|3576')\n",
    "! makeTagDirectory Tutorial_1/homer/tagDirectory-normal-m6AIP -format sam $(ls Tutorial_1/STAR/*ByCoord.out.bam | grep -E '3577|3578|3579|3580|3581|3582|3583')"
   ]
  },
  {
   "cell_type": "markdown",
   "metadata": {},
   "source": [
    "#### Step 2. Peak Calling\n",
    "Finding peaks is one of the central goals of MeRIP-Seq experiment, and the same basic principles apply to other types of sequencing such as ChIP-Seq and DNase-Seq. The basic idea is to identify regions in the genome where we find more sequencing reads than we would expect to see by chance. There are number of different approaches one can use to find peaks, and correspondingly there are many different methods for identifying differential peaks. We will introduce some of other tools in later tutorials.\n",
    "\n",
    "When calling the peaks, the first argument must be the tag directory (required). The <code>-style</code> option can be either \"factor\", \"histone\", or one of a number of specialized types (see [here](http://homer.ucsd.edu/homer/ngs/peaks.html) for more details). Use the <code>-i</code> option to specify a control experiment tag directory (the input libraries for MeRIP-seq)."
   ]
  },
  {
   "cell_type": "code",
   "execution_count": null,
   "metadata": {
    "scrolled": true,
    "tags": []
   },
   "outputs": [],
   "source": [
    "# Call peaks, using input as control\n",
    "! findPeaks Tutorial_1/homer/tagDirectory-tumor-m6AIP -style factor -o Tutorial_1/homer/tumor-peaks.txt -i Tutorial_1/homer/tagDirectory-tumor-input\n",
    "! findPeaks Tutorial_1/homer/tagDirectory-normal-m6AIP -style factor -o Tutorial_1/homer/normal-peaks.txt -i Tutorial_1/homer/tagDirectory-tumor-input"
   ]
  },
  {
   "cell_type": "markdown",
   "metadata": {},
   "source": [
    "#### Step 3. Peak Merging"
   ]
  },
  {
   "cell_type": "code",
   "execution_count": null,
   "metadata": {
    "tags": []
   },
   "outputs": [],
   "source": [
    "# Merge peaks across samples\n",
    "! mergePeaks Tutorial_1/homer/normal-peaks.txt  Tutorial_1/homer/tumor-peaks.txt >  Tutorial_1/homer/merged_peaks.txt"
   ]
  },
  {
   "cell_type": "markdown",
   "metadata": {},
   "source": [
    "#### Step 4. Peak Annotation\n",
    "Use HOMER to annotate the identified peaks against the reference genome (hg38). This step provides biological context to the m6A peaks."
   ]
  },
  {
   "cell_type": "code",
   "execution_count": null,
   "metadata": {
    "scrolled": true,
    "tags": []
   },
   "outputs": [],
   "source": [
    "# Annotate peaks with HOMER\n",
    "! annotatePeaks.pl Tutorial_1/homer/merged_peaks.txt hg38 > Tutorial_1/homer/annotated_merged_peaks.txt -noann"
   ]
  },
  {
   "cell_type": "markdown",
   "metadata": {},
   "source": [
    "### 2.4 Motif Discovery\n",
    "Motifs are biologically significant nucleic acid sequence patterns that RNA methylation-related enzymes recognize and bind to regulate gene expression. The **RRACH** motif is a well-known consensus sequence associated with m6A (N6-methyladenosine) modifications in RNA (R = A or G, H = A, C or U), where the adenosine serves as the methylation site. This motif is commonly found in **3' UTRs** and near **stop codons**, playing a crucial role in post-transcriptional gene regulation by influencing RNA stability, splicing, and translation efficiency. Highly conserved across species, RRACH is a primary target for m6A methylation and dynamically regulated in response to cellular conditions. \n",
    "\n",
    "<img src=\"images/1-RRACH-motif.png\" width=600 />\n",
    "\n",
    "In **MeRIP-seq** studies, RRACH motifs are often enriched within m6A peaks, making them key markers for understanding the functional impact of m6A modifications. To identify whether m6A peaks contain the RRACH motif, tools like **HOMER** can be used for motif discovery in peak regions, providing insights into credible methylation sites."
   ]
  },
  {
   "cell_type": "code",
   "execution_count": null,
   "metadata": {
    "scrolled": true,
    "tags": []
   },
   "outputs": [],
   "source": [
    "# Find motifs within peaks\n",
    "! findMotifsGenome.pl Tutorial_1/homer/merged_peaks.txt hg38 Tutorial_1/homer/motif_output/ -rna -len 5,6,7"
   ]
  },
  {
   "cell_type": "markdown",
   "metadata": {},
   "source": [
    "#### Visualization of identified motifs"
   ]
  },
  {
   "cell_type": "code",
   "execution_count": null,
   "metadata": {
    "tags": []
   },
   "outputs": [],
   "source": [
    "from IPython.display import IFrame\n",
    "IFrame('Tutorial_1/homer/motif_output/homerResults.html', width=800, height=400)"
   ]
  },
  {
   "cell_type": "markdown",
   "metadata": {},
   "source": [
    "---\n",
    "## **3. Data Visualization with IGV**\n",
    "The Integrative Genomics Viewer (IGV) is an interactive tool for the visual exploration of genomic data. It supports flexible integration of all the common types of genomic data and metadata. IGV supports many different file formats, such as .bam, .bed, GFF/GTF, .fasta. For a full list of file formats IGV supported, please visit https://software.broadinstitute.org/software/igv/FileFormats.\n",
    "\n",
    "IGV can be downloaded as a desktop application, and it also has a JavaScript version that can embed IGV in the web apps. The igv-notebook we are going to use in this tutorial is a Python package which wraps igv.js for embedding it in an IPython notebook.\n",
    "\n",
    "#### Basic usage\n",
    "+ Select reference genome - IGV hosts dozens of genomes and you can load other genomes too\n",
    "+ Load data tracks\n",
    "+ Navigate\n",
    "    - Zoom in/out - from whole genome view to base pair resolution\n",
    "    - Scroo/pan - view neighboring regions\n",
    "    - Jump to locus - enter coordinates or name\n",
    "    \n",
    "#### Install igv-notebook\n",
    "The Python package <code>igv-notebook</code> needs to be installed with pip: <code>pip install igv-notebook</code>. It should already be installed in the installation steps in this module.\n",
    "\n",
    "#### Intitialize IGV\n",
    "Create a browser \"b\", showing a mouse reference hg38 from chromosome 11. You can change the settings in the browser interactively. The output should like this:\n",
    "\n",
    "<img src=\"images/1-igv1.png\" width=800 />"
   ]
  },
  {
   "cell_type": "code",
   "execution_count": null,
   "metadata": {
    "tags": []
   },
   "outputs": [],
   "source": [
    "import igv_notebook\n",
    "igv_notebook.init()\n",
    "\n",
    "b = igv_notebook.Browser(\n",
    "    {\n",
    "        \"genome\": \"hg38\",\n",
    "        \"locus\": \"chr11:523,498-543,502\"\n",
    "    }\n",
    ")"
   ]
  },
  {
   "cell_type": "markdown",
   "metadata": {},
   "source": [
    "#### Load data tracks\n",
    "IGV displays data in horizontal rows called **tracks**. Typically, each track represents one sample or experiment. Track names are listed in the far-left panel. Legibility of the names depends on the height of the tracks, i.e., the smaller the track the less legible the name. There are different types of tracks (different file formats) that IGV can display:  \n",
    "- **Data tracks** display numeric values, such as the methylation levels in our tutorial\n",
    "- **Feature tracks** identify genomic features. For an example, see the Refseq Genes track, which IGV loads when you select a genome.\n",
    "- **Alignment Track** display alignments \n",
    "\n",
    "### 3.1 View Alignments\n",
    "#### 1. BAM files and indexing  \n",
    "\n",
    "IGV requires that both SAM and BAM files be **sorted** by position and **indexed**, and that the index files follow a specific naming convention. Specifically, a BAM index file should be named by appending `.BAI` to the BAM file name. \n",
    "\n",
    "To view the alignment files generated from STAR alignment in this tutorial, we first need to sort the alignment files (.bam) to generate the index (.bai) files: (the .bam files will be found in `Tutorial_1/STAR` directory)"
   ]
  },
  {
   "cell_type": "code",
   "execution_count": null,
   "metadata": {
    "tags": []
   },
   "outputs": [],
   "source": [
    "%%bash\n",
    "# Loop through all .bam files in the STAR directory\n",
    "for bam_file in Tutorial_1/STAR/*Aligned.sortedByCoord.out.bam; do\n",
    "    base_name=$(basename \"$bam_file\" Aligned.sortedByCoord.out.bam)\n",
    "    #base_name=$(basename \"$bam_file\" Aligned.toTranscriptome.out.bam)\n",
    "    # Sort the BAM file\n",
    "    samtools sort \"$bam_file\" -o \"Tutorial_1/igv/${base_name}.sorted.bam\"\n",
    "    \n",
    "    # Index the sorted BAM file\n",
    "    samtools index \"Tutorial_1/igv/${base_name}.sorted.bam\"\n",
    "done"
   ]
  },
  {
   "cell_type": "markdown",
   "metadata": {},
   "source": [
    "#### 2. Alignment coverage and bigWig files\n",
    "The **bigWig** format is in an indexed binary format useful for displaying dense, continuous data in Genome Browsers such as the UCSC and IGV. This mitigates the need to load the much larger BAM files for data visualisation purposes which will be slower and result in memory issues. The coverage values represented in the bigWig file can also be normalised in order to be able to compare the coverage across multiple samples - this is not possible with BAM files. The bigWig format is also supported by various bioinformatics software for downstream processing such as meta-profile plotting.\n",
    "\n",
    "<img src=\"images/1-bigWig.png\" width=600 />\n",
    "\n",
    "Image source: [deepTools documentation](https://deeptools.readthedocs.io/en/latest/content/tools/bamCoverage.html)"
   ]
  },
  {
   "cell_type": "code",
   "execution_count": null,
   "metadata": {
    "scrolled": true,
    "tags": []
   },
   "outputs": [],
   "source": [
    "%%bash\n",
    "# Loop through all BAM files and convert them to BigWig\n",
    "for bam_file in Tutorial_1/igv/*.bam; do\n",
    "    # Define the output BigWig filename\n",
    "    bw_file=\"${bam_file%.sorted.bam}.bw\"  # Change extension from .bam to .bw\n",
    "\n",
    "    # Run bamCoverage with normalization by CPM and a bin size of 100 bp\n",
    "    bamCoverage -b \"$bam_file\" -o \"$bw_file\" --normalizeUsing CPM --binSize 10\n",
    "done"
   ]
  },
  {
   "cell_type": "markdown",
   "metadata": {},
   "source": [
    "#### 3. Load and view the alignment (BAM) and coverage (bigWig) files to igv-notebook.\n",
    "Start a new browser \"b2\", load into the browser: \n",
    "+ reference genome\n",
    "+ the alignment .bam and its index file .bai\n",
    "+ bigWig coverage file \n",
    "\n",
    "In this example, only data from one sample (SRR7763558, input library from tumor samples) is used to show the visualziaiton of alignemnt and its coverage."
   ]
  },
  {
   "cell_type": "code",
   "execution_count": null,
   "metadata": {
    "tags": []
   },
   "outputs": [],
   "source": [
    "import igv_notebook\n",
    "igv_notebook.init()\n",
    "b2 = igv_notebook.Browser(\n",
    "    {\n",
    "        \"genome\": \"hg38\",\n",
    "        \"locus\": \"chr11:531,000-536,000\"\n",
    "    }\n",
    ")\n",
    "b2.load_track({\n",
    "    \"name\": \".bam\",\n",
    "    \"path\": \"Tutorial_1/igv/subset_SRR7763558.sorted.bam\",\n",
    "    \"indexPath\": \"Tutorial_1/igv/subset_SRR7763558.sorted.bam.bai\",\n",
    "    \"format\": \"bam\",\n",
    "    \"type\": \"alignment\",\n",
    "    \"height\": 100\n",
    "})\n",
    "b2.load_track({\n",
    "    \"name\": \".bigWig\",\n",
    "    \"path\": \"Tutorial_1/igv/subset_SRR7763558.bw\",\n",
    "    \"format\": \"bigWig\"\n",
    "})\n"
   ]
  },
  {
   "cell_type": "markdown",
   "metadata": {},
   "source": [
    "### 3.2 View identified m6A peaks\n",
    "#### BED files\n",
    "Create .bed files for peaks identifed using HOMER:"
   ]
  },
  {
   "cell_type": "code",
   "execution_count": null,
   "metadata": {
    "tags": []
   },
   "outputs": [],
   "source": [
    "# view the peak output from HOMER\n",
    "! grep -v '^#'  Tutorial_1/homer/normal-peaks.txt | awk '!/^#/ {print $2 \"\\t\" $3 \"\\t\" $4 \"\\t\" $1 \"\\t\" $8 \"\\t\" $5}' > Tutorial_1/igv/normal-peaks.bed\n",
    "! grep -v '^#'  Tutorial_1/homer/tumor-peaks.txt | awk '!/^#/ {print $2 \"\\t\" $3 \"\\t\" $4 \"\\t\" $1 \"\\t\" $8 \"\\t\" $5}' > Tutorial_1/igv/tumor-peaks.bed\n",
    "! head Tutorial_1/igv/normal-peaks.bed"
   ]
  },
  {
   "cell_type": "markdown",
   "metadata": {
    "tags": []
   },
   "source": [
    "#### bedGraph files\n",
    "Merge bigWig files into bedGraph files using <code>bigWigMerge</code>. These merged files can then be visualized in IGV as a single track, simplifying the comparison between input and IP (immunoprecipitated) samples."
   ]
  },
  {
   "cell_type": "code",
   "execution_count": null,
   "metadata": {
    "tags": []
   },
   "outputs": [],
   "source": [
    "%%bash\n",
    "cd Tutorial_1/igv\n",
    "bigWigMerge subset_SRR7763558.bw subset_SRR7763559.bw subset_SRR7763560.bw subset_SRR7763561.bw subset_SRR7763562.bw subset_SRR7763563.bw tumor-input.bg\n",
    "bigWigMerge subset_SRR7763564.bw subset_SRR7763565.bw subset_SRR7763566.bw subset_SRR7763567.bw subset_SRR7763568.bw subset_SRR7763569.bw subset_SRR7763570.bw normal-input.bg\n",
    "bigWigMerge subset_SRR7763571.bw subset_SRR7763572.bw subset_SRR7763573.bw subset_SRR7763574.bw subset_SRR7763575.bw subset_SRR7763576.bw tumor-m6A-IP.bg\n",
    "bigWigMerge subset_SRR7763577.bw subset_SRR7763578.bw subset_SRR7763579.bw subset_SRR7763580.bw subset_SRR7763581.bw subset_SRR7763582.bw subset_SRR7763583.bw normal-m6A-IP.bg"
   ]
  },
  {
   "cell_type": "markdown",
   "metadata": {},
   "source": [
    "#### Load .bed and .bedGraph tracks in a IGV browser\n",
    "<img src=\"images/1-igv2.png\" width=800/>"
   ]
  },
  {
   "cell_type": "code",
   "execution_count": null,
   "metadata": {
    "tags": []
   },
   "outputs": [],
   "source": [
    "import igv_notebook\n",
    "igv_notebook.init()\n",
    "b3 = igv_notebook.Browser(\n",
    "    {\n",
    "        \"genome\": \"hg38\",\n",
    "        \"locus\": \"chr11:531,000-536,000\"\n",
    "    }\n",
    ")\n",
    "b3.load_track({\n",
    "    \"name\": \"Tumor input\",\n",
    "    \"path\": \"Tutorial_1/igv/tumor-input.bg\",\n",
    "    \"format\": \"bedGraph\",\n",
    "    \"color\": \"blue\"\n",
    "})\n",
    "b3.load_track({\n",
    "    \"name\": \"Tumor m6A-IP\",\n",
    "    \"path\": \"Tutorial_1/igv/tumor-m6A-IP.bg\",\n",
    "    \"format\": \"bedGraph\",\n",
    "    \"color\": \"red\"\n",
    "})\n",
    "b3.load_track({\n",
    "    \"name\": \"Normal input\",\n",
    "    \"path\": \"Tutorial_1/igv/normal-input.bg\",\n",
    "    \"format\": \"bedGraph\",\n",
    "    \"color\": \"blue\"\n",
    "})\n",
    "b3.load_track({\n",
    "    \"name\": \"Normal m6A-IP\",\n",
    "    \"path\": \"Tutorial_1/igv/normal-m6A-IP.bg\",\n",
    "    \"format\": \"bedGraph\",\n",
    "    \"color\": \"red\"\n",
    "})\n",
    "b3.load_track({\n",
    "    \"name\": \"tumor-peaks.bed\",\n",
    "    \"path\": \"Tutorial_1/igv/tumor-peaks.bed\",\n",
    "    \"format\": \"bed\",\n",
    "    \"color\": \"black\",\n",
    "    \"height\": 40\n",
    "})\n",
    "b3.load_track({\n",
    "    \"name\": \"normal-peaks.bed\",\n",
    "    \"path\": \"Tutorial_1/igv/normal-peaks.bed\",\n",
    "    \"format\": \"bed\",\n",
    "    \"color\": \"darkgreen\",\n",
    "    \"height\": 40\n",
    "})\n"
   ]
  },
  {
   "cell_type": "markdown",
   "metadata": {
    "tags": []
   },
   "source": [
    "## Conclusion\n",
    "In this module, we covered the following key concepts and workflows:\n",
    "+ **MeRIP-seq Data Preprocessing**: Downloading the dataset, setting up directories, quality control with FastQC, adapter trimming, and aligning reads using STAR.\n",
    "+ **Peak Calling and Annotation**: Using HOMER for peak calling and motif discovery, helping us identify regions enriched in m6A modifications.\n",
    "+ **Data Visualization**: Using IGV for exploring alignment files, coverage, and peaks, providing a comprehensive view of the MeRIP-seq data.\n",
    "+ **BigWig and BAM Manipulations**: Converting alignment files and coverage tracks into formats suitable for visualization, merging replicates for more streamlined analysis.\n",
    "By following these steps, you now have a full understanding of the MeRIP-seq data preprocessing pipeline and can apply similar workflows to your own datasets for robust RNA methylation analysis."
   ]
  },
  {
   "cell_type": "markdown",
   "metadata": {},
   "source": [
    "## Clean up\n",
    "A reminder to shutdown VM and delete any relevant resources. <br><br>"
   ]
  },
  {
   "cell_type": "markdown",
   "metadata": {},
   "source": [
    "<br>"
   ]
  }
 ],
 "metadata": {
  "kernelspec": {
   "display_name": "conda_python3",
   "language": "python",
   "name": "conda_python3"
  },
  "language_info": {
   "codemirror_mode": {
    "name": "ipython",
    "version": 3
   },
   "file_extension": ".py",
   "mimetype": "text/x-python",
   "name": "python",
   "nbconvert_exporter": "python",
   "pygments_lexer": "ipython3",
   "version": "3.10.14"
  }
 },
 "nbformat": 4,
 "nbformat_minor": 4
}
