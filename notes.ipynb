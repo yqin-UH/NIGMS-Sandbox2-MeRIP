{
 "cells": [
  {
   "cell_type": "markdown",
   "id": "76bb177f-cb33-4236-b25b-4e08ecc7fe34",
   "metadata": {},
   "source": [
    "# Install nextflow, setting up workflow"
   ]
  },
  {
   "cell_type": "code",
   "execution_count": null,
   "id": "6d40e6b8-65da-4d32-bdcc-c5aa6c7238ba",
   "metadata": {},
   "outputs": [],
   "source": [
    "! conda install bioconda::nextflow conda-forge::singularity bioconda::nf-core -y"
   ]
  },
  {
   "cell_type": "code",
   "execution_count": null,
   "id": "4b10c99a-408b-4678-8c17-e3a635cd7ab9",
   "metadata": {},
   "outputs": [],
   "source": [
    "! git clone https://github.com/yqin-UH/NIGMS-Sandbox2-MeRIP.git"
   ]
  },
  {
   "cell_type": "code",
   "execution_count": null,
   "id": "7e32f12f-7810-4783-b2ed-d6df0aeb55a4",
   "metadata": {},
   "outputs": [],
   "source": [
    "! nf-core pipelines create"
   ]
  },
  {
   "cell_type": "code",
   "execution_count": null,
   "id": "25b85450-37c1-4b85-8fd8-40f8999d15e7",
   "metadata": {},
   "outputs": [],
   "source": [
    "! pwd\n",
    "! ls"
   ]
  },
  {
   "cell_type": "markdown",
   "id": "6f771b1a-29a2-42a2-969e-19734782795b",
   "metadata": {},
   "source": [
    "# Get datasets"
   ]
  },
  {
   "cell_type": "code",
   "execution_count": null,
   "id": "e8cbbbc2-f72e-4f0b-b6e5-0992f91a55d8",
   "metadata": {},
   "outputs": [],
   "source": [
    "# copy the data from s3 bucket to Tutorial_1 directory\n",
    "! aws s3 cp s3://ovarian-cancer-example-fastqs/ example_dataset --recursive\n",
    "# decompress the sequence reads files\n",
    "! tar -zxvf example_dataset/fastqs.tar.gz -C example_dataset"
   ]
  },
  {
   "cell_type": "markdown",
   "id": "153e66b1-9655-4e01-bc91-cdb0c824b661",
   "metadata": {},
   "source": [
    "nextflow run nf-meripseq -profile singularity --input samplesheet.csv --outdir=\"meripseq_results\" --gtf example_dataset/gencode.v46.pri.chr11.1.5M.gtf --fasta example_dataset/chr11_1.5M.fasta -c add.config"
   ]
  },
  {
   "cell_type": "markdown",
   "id": "395e6862-689f-4f57-8091-a68ad3b83f52",
   "metadata": {},
   "source": [
    "# Install nf-core modules"
   ]
  },
  {
   "cell_type": "code",
   "execution_count": null,
   "id": "845243d9-be11-4d85-ba09-04893dcdeb66",
   "metadata": {},
   "outputs": [],
   "source": []
  },
  {
   "cell_type": "code",
   "execution_count": null,
   "id": "28e369bf-21a7-4941-8296-35537f67a94b",
   "metadata": {},
   "outputs": [],
   "source": [
    "## cd nf-meripseq/\n",
    "! nf-core modules install gunzip trimgalore star/align star/genomegenerate untar"
   ]
  },
  {
   "cell_type": "markdown",
   "id": "ab0a99e0-ed0a-4f58-bff8-f8651a9009f4",
   "metadata": {},
   "source": [
    "# run nextflow pipeline nf-meripseq\n",
    "<code>nextflow run nf-meripseq -profile singularity --input samplesheet.csv --outdir=\"meripseq_results\" --gtf example_dataset/gencode.v46.pri.chr11.1.5M.gtf --fasta example_dataset/chr11_1.5M.fasta -c add.config -resume\n",
    "</code>"
   ]
  },
  {
   "cell_type": "code",
   "execution_count": null,
   "id": "f920166a-1566-413f-96c8-46d6381577a8",
   "metadata": {},
   "outputs": [],
   "source": [
    "! nextflow run nf-meripseq -profile singularity \\\n",
    "    --input samplesheet.csv --outdir=\"meripseq_results\" \\\n",
    "    --gtf example_dataset/gencode.v46.pri.chr11.1.5M.gtf \\\n",
    "    --fasta example_dataset/chr11_1.5M.fasta \\\n",
    "    -c add.config"
   ]
  },
  {
   "cell_type": "code",
   "execution_count": null,
   "id": "5efdc847-91df-457b-a1ff-b8ffb79e1c2d",
   "metadata": {},
   "outputs": [],
   "source": [
    "! nextflow run nf-meripseq -profile singularity \\\n",
    "    --input samplesheet.csv \\\n",
    "    --outdir=\"meripseq_results\" \\\n",
    "    --gtf example_dataset/gencode.v46.pri.chr11.1.5M.gtf \\\n",
    "    --fasta example_dataset/chr11_1.5M.fasta \\\n",
    "    -c add.config \\\n",
    "    -resume"
   ]
  },
  {
   "cell_type": "markdown",
   "id": "d767fb39-a60b-448a-94be-6d7331f8f4a6",
   "metadata": {},
   "source": [
    "The <code>control</code> column should be the sample identifier for the controls for any given IP. This column together with the control_replicate column will set the corresponding control for each of the samples in the table."
   ]
  }
 ],
 "metadata": {
  "kernelspec": {
   "display_name": "conda_python3",
   "language": "python",
   "name": "conda_python3"
  },
  "language_info": {
   "codemirror_mode": {
    "name": "ipython",
    "version": 3
   },
   "file_extension": ".py",
   "mimetype": "text/x-python",
   "name": "python",
   "nbconvert_exporter": "python",
   "pygments_lexer": "ipython3",
   "version": "3.10.16"
  }
 },
 "nbformat": 4,
 "nbformat_minor": 5
}
