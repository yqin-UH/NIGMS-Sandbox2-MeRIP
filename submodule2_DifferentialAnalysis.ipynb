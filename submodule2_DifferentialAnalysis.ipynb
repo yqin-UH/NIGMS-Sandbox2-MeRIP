{
 "cells": [
  {
   "cell_type": "markdown",
   "metadata": {},
   "source": [
    "# <b>Moduel 2 - Peak Calling and Differential Analysis</b> \n",
    "--------------------------------------------"
   ]
  },
  {
   "cell_type": "markdown",
   "metadata": {},
   "source": [
    "## Overview\n",
    "In this module, we will cover the analysis of m6A MeRIP-seq data. We will focus on two key steps:\n",
    "1. **Peak calling** to identify regions of the genome/transcriptome that are enriched in m6A methylation, using MeRIPtools.\n",
    "2. **Differential methylation analysis** to detect changes in methylation between conditions, using exomePeak2 and RADAR.\n",
    "\n",
    "We will guide you through how to use **MeRIPtools** to call peaks and then how to perform differential analysis with two workflows: **exomePeak2** and **RADAR**, highlighting key considerations for each tool."
   ]
  },
  {
   "cell_type": "markdown",
   "metadata": {},
   "source": [
    "## Learning Objectives\n",
    "+ <b>Learning Objective 1</b>: Understand the distinction between peak calling and differential methylation analysis, their relationship, and the inputs/outputs required for each step. \n",
    "+ <b>Learning Objective 2</b>: Apply appropriate tools and workflows to perform these two steps.\n",
    "    - Learning Objective **2.1** Perform peak calling using MeRIPtools and interpret the peak regions it identifies.\n",
    "    - Learning Objective **2.2** Use RADAR for differential methylation analysis, focusing on the comparison between experimental conditions.\n",
    "    - Learning Objective **2.3** Use exomePeak2 for integrated peak calling and differential methylation analysis, covering both steps in one workflow.\n",
    "+ <b>Learning Objective 3</b>: Interpret and analyze the outputs from each tool. Compare the results across different workflows (MeRIPtools, RADAR, and exomePeak2) and understand how to integrate these results if necessary."
   ]
  },
  {
   "cell_type": "markdown",
   "metadata": {},
   "source": [
    "## Prerequisites\n",
    "You will need the following files prepared in **Tutorial 1**:\n",
    "\n",
    "- **Alignment Files (BAM format)**: These are the output files generated when the raw reads were aligned to the reference genome in Tutorial 1.\n",
    "- **GTF Annotation File**: This file, which was downloaded from the storage bucket as described in Tutorial 1, provides gene annotations necessary for the peak calling and differential analysis steps.\n",
    "\n",
    "Ensure both the BAM files and the GTF annotation file are accessible and ready for use in this module."
   ]
  },
  {
   "cell_type": "markdown",
   "metadata": {},
   "source": [
    "## Outline\n",
    "- **Introduction** to Peak calling and differential methylation analysis in MeRIPseq data analysis\n",
    "- **Getting started**\n",
    "    1. Installing R packages\n",
    "    2. Setting up directory structures\n",
    "    3. Prepare the Example Dataset\n",
    "- **Peak calling** using MeRIPtools\n",
    "- **RADAR** workflow for differential methylation analysis\n",
    "- **ExomePeak2** workflow for Peak calling + differential methylation analysis\n"
   ]
  },
  {
   "cell_type": "markdown",
   "metadata": {},
   "source": [
    "---\n",
    "## Introduction\n",
    "Analyzing MeRIP-seq data consists of two key steps: peak calling and differential methylation analysis. Peak calling identifies the regions of the genome or transcriptome that are enriched in m6A modifications, providing insights into where m6A is likely to occur. Differential methylation analysis then compares these methylation levels across different experimental conditions (e.g., control vs. treatment) to identify regions with significant changes in m6A levels. By combining these two steps, researchers can map m6A-modified regions and uncover important regulatory changes in RNA methylation associated with biological processes or disease states.\n",
    "\n",
    "<img src=\"images/2-introduction.png\" width=800 />"
   ]
  },
  {
   "cell_type": "markdown",
   "metadata": {},
   "source": [
    "## 1. Get Started\n",
    "### 1.1. Installing R packages"
   ]
  },
  {
   "cell_type": "markdown",
   "metadata": {},
   "source": [
    "Installation of pre-requisite R packages. (⏰ ~30 minites.）"
   ]
  },
  {
   "cell_type": "code",
   "execution_count": null,
   "metadata": {
    "scrolled": true,
    "tags": []
   },
   "outputs": [],
   "source": [
    "#Rsamtools, GenomicFeatures (>= 1.14.5), Rcpp, ggplot2, doParallel, foreach, gplots, RColorBrewer, RcppArmadillo\n",
    "if (!require(\"BiocManager\", quietly = TRUE)){\n",
    "    install.packages(\"BiocManager\")\n",
    "    print(\" --- Installation of BiocManager is done. ---\")\n",
    "}\n",
    "BiocManager::install(\"Rsamtools\")\n",
    "print(\" --- Installation of Rsamtools is done. ---\")\n",
    "BiocManager::install(\"GenomicFeatures\")\n",
    "print(\" --- Installation of GenomicFeatures is done. ---\")\n",
    "BiocManager::install(c(\"DESeq2\",\"qvalue\",\"txdbmaker\"))\n",
    "print(\" --- Installation of DESeq2 is done. ---\")\n",
    "install.packages(c(\"Rcpp\",\"ggplot2\",\"doParallel\",\"foreach\",\"gplots\",\"RColorBrewer\",\"RcppArmadillo\",\"BH\"))\n",
    "print(\" --- Installation is done. ---\")"
   ]
  },
  {
   "cell_type": "markdown",
   "metadata": {},
   "source": [
    "Install the R package from Github. The installation should takes a few minutes if all depends are installed. Installing depends may takes longer time. (⏰ 10 mins)"
   ]
  },
  {
   "cell_type": "code",
   "execution_count": null,
   "metadata": {
    "scrolled": true,
    "tags": []
   },
   "outputs": [],
   "source": [
    "install.packages(\"devtools\")\n",
    "devtools::install_github(\"scottzijiezhang/RADAR\")\n",
    "library(\"RADAR\")"
   ]
  },
  {
   "cell_type": "markdown",
   "metadata": {},
   "source": [
    "<div style=\"border: 1px solid #659078; padding: 0px; border-radius: 4px;\">\n",
    "  <div style=\"background-color: #d4edda; padding: 5px; font-weight: bold;\">\n",
    "    <i class=\"fas fa-lightbulb\" style=\"color: #0e4628;margin-right: 5px;\"></i>\n",
    "      <span style=\"color: #0e4628\">Tips - Running Bash Commands in an R Notebook </span>\n",
    "  </div>\n",
    "  <p style=\"margin-left: 5px;\">\n",
    "In an R notebook, you can use the <code>system()</code> function to execute bash commands. However, by default, <code>system()</code> will run the command without printing the output to the notebook. To display the output, you need to capture it by adding the argument intern = TRUE. This captures the command’s output as an R character vector, which you can then print using <code>cat()</code> or another R function. </p>\n",
    "\n",
    "  <div style=\"margin-left: 5px;\">Here, we create a function <code>runCommand()</code> to run a bash command and capture its result:</div>"
   ]
  },
  {
   "cell_type": "code",
   "execution_count": null,
   "metadata": {
    "tags": []
   },
   "outputs": [],
   "source": [
    "# Function to run a system command and print the output\n",
    "runCommand <- function(cmd){\n",
    "    output <- tryCatch({\n",
    "        system(cmd, intern = TRUE)\n",
    "    }, warning = function(w) {\n",
    "        warning(paste(\"Warning while running command:\", cmd, \"\\n\", w))\n",
    "        return(NULL)\n",
    "    }, error = function(e) {\n",
    "        stop(paste(\"Error while running command:\", cmd, \"\\n\", e))\n",
    "    })\n",
    "    \n",
    "    if(length(output) > 0){\n",
    "        cat(output, sep = \"\\n\")\n",
    "    }\n",
    "}"
   ]
  },
  {
   "cell_type": "markdown",
   "metadata": {},
   "source": [
    "### 1.2. Setting up directory structures"
   ]
  },
  {
   "cell_type": "code",
   "execution_count": null,
   "metadata": {
    "tags": []
   },
   "outputs": [],
   "source": [
    "if (!file.exists(\"Tutorial_2\")){\n",
    "    dir.create(file.path(\"Tutorial_2\"))\n",
    "    dir.create(file.path(\"Tutorial_2/bam\"))\n",
    "    dir.create(file.path(\"Tutorial_2/RADAR\"))\n",
    "}\n",
    "setwd(file.path(\"Tutorial_2\"))"
   ]
  },
  {
   "cell_type": "markdown",
   "metadata": {},
   "source": [
    "## 2. **MeRIPtools** - Peak Calling\n",
    "Need to be added."
   ]
  },
  {
   "cell_type": "markdown",
   "metadata": {},
   "source": [
    "## 3. **RADAR** workflow - Differential Analysis"
   ]
  },
  {
   "cell_type": "markdown",
   "metadata": {},
   "source": [
    "Prepare meta data and copy the alignemnt files from previous tutorial (submodule 1) and rename them."
   ]
  },
  {
   "cell_type": "code",
   "execution_count": null,
   "metadata": {
    "tags": []
   },
   "outputs": [],
   "source": [
    "# Load metadata\n",
    "meta <- read.csv(file=\"../Tutorial_1/meta.txt\", sep=\"\\t\", header=TRUE)\n",
    "\n",
    "# Replace spaces with dots in Sample_title and remove specific text from Group\n",
    "meta$sample <- gsub(\" \", \".\", meta$Sample_title)\n",
    "meta$group <- gsub(\"omental | Fallopian tube\", \"\", meta$Group)\n",
    "\n",
    "# Construct old and new file paths\n",
    "meta$old_bam <- paste0(\"../Tutorial_1/STAR/subset_\", meta$Run, \"Aligned.sortedByCoord.out.bam\")\n",
    "meta$new_bam <- paste0(\"bam/\", meta$group, \"_\", meta$sample, \".bam\")\n",
    "\n",
    "# Rename and move the files\n",
    "for(i in 1:nrow(meta)) {\n",
    "   runCommand(paste0(\"cp \", meta$old_bam[i], \" \", meta$new_bam[i]))\n",
    "}\n",
    "\n",
    "# Store sample information for further usage\n",
    "meta$sample <- paste0(meta$group, \"_\", meta$sample)\n",
    "\n",
    "# View modified meta\n",
    "head(meta)"
   ]
  },
  {
   "cell_type": "markdown",
   "metadata": {},
   "source": [
    "### 3.1 Read count quantification.\n",
    "First, create a character vector <code>samplenames</code> to define the names of sample, which will later tells RADAR to look for input and IP file with the samplenames as prefix.\n",
    "\n",
    "Next we need to use <code>countReads()</code> function to \n",
    "- Concatenate exons of each gene to get a “longest isoform” transcript of each gene.\n",
    "- Divide transcripts into consecutive bins of user defined width. \n",
    "- Quantify reads mapped to each bin.\n",
    "\n",
    "This step usually takes a few hours depending on the configuration of the computer and the number of thread used to count reads. In a workstation using 20 threads (Intel Xeon processer), it takes about 1 hour for this step for 15 samples. Much longer time is expected if using laptop.\n",
    "\n",
    "<p>The parameter <code>modification = \"m6A-IP\"</code> tells the function to look for bam file of IP by the name samplename.m6A-IP.bam. If the user named the IP sample as samplename.IP.bam, the user should set modification = \"IP\". RADAR enable flexible seeting for IP sample in cases where user perform MeRIP seq on multiple modification with shared INPUT library.</p><p>The default setting for bin width to slice the transcript is **50bp**. One can set this by parameter <code>binSize = #bp</code>. For very shallow sequencing depth (e.g. less than 10M mappable reads per library), we recommand setting bin width to larger size such as 100bp to increase the number of reads countable in each bin.</p>"
   ]
  },
  {
   "cell_type": "code",
   "execution_count": null,
   "metadata": {
    "scrolled": true,
    "tags": []
   },
   "outputs": [],
   "source": [
    "library(\"RADAR\")\n",
    "samplenames <- gsub(\".input|.m6A-IP\",\"\",meta$sample)\n",
    "RADAR <- countReads(samplenames = samplenames,\n",
    "                    gtf = \"../Tutorial_1/gencode.v46.pri.chr11.1.5M.gtf\",\n",
    "                    bamFolder = \"bam\",\n",
    "                    outputDir =  \"RADAR\",\n",
    "                    modification = \"m6A-IP\",\n",
    "                    binSize = 50, \n",
    "                    strandToKeep = \"opposite\",\n",
    "                    paired = TRUE,\n",
    "                    threads = 4\n",
    ")\n",
    "\n",
    "saveRDS(RADAR, file = \"RADAR/radar1.rds\")"
   ]
  },
  {
   "cell_type": "code",
   "execution_count": null,
   "metadata": {},
   "outputs": [],
   "source": [
    "summary(RADAR)"
   ]
  },
  {
   "cell_type": "markdown",
   "metadata": {},
   "source": [
    "### 3.2 Normalization and Filtering\n",
    "\n",
    "During the library normalization step, the bin-level read count of input is summarized into gene-level read count. The size factor of input is calculated using “mean ratio method” implemented in DESeq2, which is then used to calculated normalized input bin-level read count. To normalize the library size of IP samples, RADAR uses top read count bins of IP and corresponding input gene-level read count to compute the estimated enrichment of each sample. This procedure is under the assumption that samples in the same study have the same IP efficiency. RADAR then normalizes the IP read counts by the estimated IP efficiency. As an sanity check, the <code>normalizeLibrary()</code> function also generate box plot of read count before and after normalizing INPUT and box plot of estimated enrichment before and after normalizing IP. This plot can be disabled by option <code>boxPlot = FALSE</code>.\n",
    "\n",
    "Next, the <i>geneSum</i> of INPUT is used to adjust for the variation of expression level of the IP read count. This step aims to account for the variation of IP read count attributed to variation of pre-IP gene expression level.\n",
    "\n",
    "Before the differential test, we need to filter out bins of very low read count because under sampled locus can be strongly affected by technical variation. The filtering step will also filter out bins where IP has less coverage than Input because we only care about loci where m6A is enrichment."
   ]
  },
  {
   "cell_type": "code",
   "execution_count": null,
   "metadata": {},
   "outputs": [],
   "source": [
    "radar_obj <- readRDS(file = \"RADAR/radar1.rds\")\n",
    "\n",
    "# normalizaion\n",
    "radar_obj <- normalizeLibrary(radar_obj)\n",
    "radar_obj <- adjustExprLevel(radar_obj)\n",
    "\n",
    "#providing the experimental group to the MeRIP.RADAR object for filtering and later inferential test steps.\n",
    "variable(radar_obj) <- data.frame( Group = gsub(\"_.*\",\"\",colnames(radar_obj@norm.input)))\n",
    "\n",
    "# filtering\n",
    "radar_obj <- filterBins(radar_obj,minCountsCutOff = 15)"
   ]
  },
  {
   "cell_type": "markdown",
   "metadata": {},
   "source": [
    "### 3.3 Run Poisson Gamma Test\n",
    "\n",
    "Now we have the pre-processed read counts matrix for testing differential methylation. To run the default PoissonGamma test, we can call the diffIP() function. However, depending on the number of bins to be processed, this step may takes minutes to hours. Thus, multi-thread is recommended (therefore, use <code>diffIP_parallel()</code>)."
   ]
  },
  {
   "cell_type": "code",
   "execution_count": null,
   "metadata": {
    "scrolled": true,
    "tags": []
   },
   "outputs": [],
   "source": [
    "radar_obj <- diffIP_parallel(radar_obj, thread = 8)\n",
    "top_bins <- extractIP(radar_obj,filtered = T)[order(rowMeans( extractIP(radar_obj,filtered = T) ),decreasing = T)[1:1000],]\n",
    "radar_obj <- reportResult(radar_obj, cutoff = 0.1, Beta_cutoff = 0.5, threads=16)\n",
    "result.1 <- results(radar_obj)\n",
    "saveRDS(radar_obj, file = \"radar2.rds\")\n",
    "result.1"
   ]
  },
  {
   "cell_type": "markdown",
   "metadata": {
    "tags": []
   },
   "source": [
    "### 3.4 Visualize the results by Heatmap and coverage plot\n",
    "**Heatmap**. To assess the pattern of variation of the MeRIP-seq data, we can plot the heatmap of methylation level (represented by the normalized IP read counts adjusted for expression level).\n",
    "The belowing code shows how to plot heatmap from the radar object (<code>radar_obj</code>) for the significant bins."
   ]
  },
  {
   "cell_type": "code",
   "execution_count": null,
   "metadata": {
    "tags": []
   },
   "outputs": [],
   "source": [
    "plotHeatMap(radar_obj)"
   ]
  },
  {
   "cell_type": "markdown",
   "metadata": {},
   "source": [
    "**Sequencing coverage plot**. One of the most straight forward visualization of MeRIP-seq data is the coverage plot. RADAR implemented function to take a radar object and plot the mean/median coverage of IP and INPUT for two inferential groups. Here we demonstrate the function using a differential methylated gene reported in above sections.\n",
    "To use the plot function, we need to prepare an GTF annotation in GRanges format. This can be done by <code>radar <- PrepCoveragePlot(radar)</code>. **This step only need to be done once for each radar object**."
   ]
  },
  {
   "cell_type": "code",
   "execution_count": null,
   "metadata": {},
   "outputs": [],
   "source": [
    "radar_obj <- PrepCoveragePlot(radar_obj)\n",
    "plotGeneCov(radar_obj,geneName = \"ENSG00000174775.18\", center = median, libraryType = \"opposite\", ZoomIn = c(532400,532800))"
   ]
  },
  {
   "cell_type": "code",
   "execution_count": null,
   "metadata": {
    "tags": []
   },
   "outputs": [],
   "source": [
    "plotGeneCov(radar_obj,geneName = \"ENSG00000174775.18\", center = median, libraryType = \"opposite\", ZoomIn = c(532400,532800),adjustExprLevel = T )"
   ]
  },
  {
   "cell_type": "code",
   "execution_count": null,
   "metadata": {
    "tags": []
   },
   "outputs": [],
   "source": [
    "plotGeneCov(radar_obj,geneName = \"ENSG00000174775.18\", center = median, libraryType = \"opposite\", ZoomIn = c(532400,532800),adjustExprLevel = T,split=T )"
   ]
  },
  {
   "cell_type": "markdown",
   "metadata": {
    "tags": []
   },
   "source": [
    "## 4. **ExomePeak2** workflow - Peak calling + Differential \n",
    "**ExomePeak2** provides technical independent peak detection and differential methylation analysis for Methylated RNA immunoprecipitation sequencing data (MeRIP-Seq). MeRIP-Seq is the primary sequencing technology for epi-transcriptomic assessment. The peak calling processes in MeRIP-Seq is sensitive to GC content biases, which are generally present in NGS-based assays. Besides, the antibody pull-down efficiency do often vary across different IP replicates, introducing another layer of unwanted technical variation. exomePeak2 addresses these challenges by introducing a robust set of computation tools tailored for MeRIP-Seq. With exomePeak2, users can perform peak calling and differential analysis through a straightforward single-step function. - The <i>ExomePeak2</i> Guide\n"
   ]
  },
  {
   "cell_type": "markdown",
   "metadata": {
    "tags": []
   },
   "source": [
    "For this tutorial, we use human reference genome, so the package needs to be installed. If you are using different genome later, need to install the genome as well. "
   ]
  },
  {
   "cell_type": "code",
   "execution_count": null,
   "metadata": {
    "scrolled": true,
    "tags": []
   },
   "outputs": [],
   "source": [
    "BiocManager::install(\"exomePeak2\")\n",
    "BiocManager::install(\"BSgenome.Hsapiens.UCSC.hg38\")\n",
    "library(exomePeak2)"
   ]
  },
  {
   "cell_type": "code",
   "execution_count": null,
   "metadata": {
    "tags": []
   },
   "outputs": [],
   "source": [
    "# prepare the input files\n",
    "INPUT_BAM <- meta[grepl(\"input\", meta$sample) & meta$group == \"normal\", \"new_bam\"]\n",
    "IP_BAM <- meta[grepl(\"IP\", meta$sample) & meta$group == \"normal\", \"new_bam\"]\n",
    "TREATED_INPUT_BAM <- meta[grepl(\"input\", meta$sample) & meta$group == \"tumor\", \"new_bam\"]\n",
    "TREATED_IP_BAM <- meta[grepl(\"IP\", meta$sample) & meta$group == \"tumor\", \"new_bam\"]\n",
    "GENE_ANNO_GTF <- \"../Tutorial_1/gencode.v46.pri.chr11.1.5M.gtf\""
   ]
  },
  {
   "cell_type": "markdown",
   "metadata": {
    "jp-MarkdownHeadingCollapsed": true,
    "tags": []
   },
   "source": [
    "### Peak calling\n",
    "For peak calling in a MeRIP-Seq experiment, **exomePeak2** requires the alignment results to be provided in **BAM** format. You need to specify the **BAM** files for IP and input samples using the arguments <code>bam_ip</code> and <code>bam_input</code> in the <code>exomePeak2()</code> function.\n",
    "\n",
    "Below is an example of how to perform peak calling using **BAM** and **GFF** files. In addition to **GFF** files, transcript annotation can also be supplied via the **TxDb** object from <code>Bioconductor</code>. If the UCSC genome name is provided in the <code>genome</code> argument, **TxDb** will be automatically downloaded.\n",
    "\n",
    "To correct for GC content biases, the genome sequence should be specified in the <code>genome</code> argument. If no genome is provided (i.e., <code>genome = NULL</code>), **exomePeak2** will run without GC content bias correction, which may affect peak detection.\n",
    "\n",
    "```\n",
    "exomePeak2(bam_ip = IP_BAM,\n",
    "           bam_input = INPUT_BAM,\n",
    "           gff = GENE_ANNO_GTF,\n",
    "           genome = \"hg38\")\n",
    "```\n",
    "This code identifies peaks using the IP and input BAM files from control samples. While this step is important, note that the differential analysis in **exomePeak2** automatically performs peak calling before the differential analysis step. Therefore, we will not include this step separately in the tutorial."
   ]
  },
  {
   "cell_type": "markdown",
   "metadata": {},
   "source": [
    "### Differential Methylation Analysis\n",
    "In the differential analysis step, **exomePeak2** compares IP (immunoprecipitation) and input samples across the two conditions, taking into account the RNA modifications’ fold change and statistical significance. The analysis uses regions defined by transcript annotations (e.g., exons) to focus on functional genomic elements.\n",
    "\n",
    "The following example demonstrates how to perform differential methylation analysis using the IP and input BAM files for two biological conditions using our example dataset:"
   ]
  },
  {
   "cell_type": "code",
   "execution_count": null,
   "metadata": {
    "scrolled": true,
    "tags": []
   },
   "outputs": [],
   "source": [
    "exomePeak2(bam_ip = IP_BAM,\n",
    "           bam_input = INPUT_BAM,\n",
    "           bam_input_treated = TREATED_INPUT_BAM,\n",
    "           bam_ip_treated = TREATED_IP_BAM,\n",
    "           gff = GENE_ANNO_GTF,\n",
    "           genome = \"hg38\")"
   ]
  },
  {
   "cell_type": "code",
   "execution_count": null,
   "metadata": {},
   "outputs": [],
   "source": [
    "exomePeak2(bam_ip = IP_BAM,\n",
    "           bam_input = INPUT_BAM,\n",
    "           bam_input_treated = TREATED_INPUT_BAM,\n",
    "           bam_ip_treated = TREATED_IP_BAM,\n",
    "           gff = GENE_ANNO_GTF,\n",
    "           genome = \"hg38\",\n",
    "           fragment_length = 37,\n",
    "           p_cutoff = 0.05,\n",
    "           diff_p_cutoff = 0.05,\n",
    "          experiment_name = \"exomePeak2_output_more\")"
   ]
  },
  {
   "cell_type": "markdown",
   "metadata": {},
   "source": [
    "<div style=\"border: 1px solid #9ec5fe; padding: 0px; border-radius: 4px;\">\n",
    "    <div style=\"background-color: #cfe2ff; padding: 5px;\">\n",
    "        <i class=\"fas fa-file-alt\" style=\"color: #052c65;margin-right: 5px;\"></i>\n",
    "        <a style=\"color: #052c65\"><b>Notes</b>. exomePeak2 output </a>\n",
    "    </div>\n",
    "    <p style=\"margin-left: 5px;\">\n",
    "    Besides the <i>GRangesList</i> object of peaks returned by the main function, exomePeak2 will export significant peaks in <b>BED</b> and <b>CSV</b> format; the files will be automatically saved in a folder named <code>exomePeak2_output</code>.\n",
    "    </p>\n",
    "    <p style=\"margin-left: 5px;\"><img src=\"images/2-GC_fit.jpg\" width=400 />\n",
    "    <p style=\"margin-left: 5px;\">\n",
    "The <b>GC_fit.pdf</b> output (figure above) from exomePeak2 is a diagnostic plot that visualizes the relationship between GC content and sequencing signal to assess and correct for GC content bias during peak calling. The X-axis represents the GC content of genomic regions, while the Y-axis shows the observed sequencing signal. The fitted curve on the plot indicates how exomePeak2 models and adjusts for GC bias, ensuring that methylation peaks are detected based on biological signals rather than sequencing artifacts. This figure helps confirm whether GC content bias is present and whether it has been properly corrected.\n",
    "    </p>\n",
    "</div>"
   ]
  },
  {
   "cell_type": "markdown",
   "metadata": {},
   "source": [
    "## **Comparison**"
   ]
  },
  {
   "cell_type": "code",
   "execution_count": null,
   "metadata": {},
   "outputs": [],
   "source": []
  },
  {
   "cell_type": "markdown",
   "metadata": {},
   "source": [
    "## Conclusion\n",
    "Provide an overview of the lessons and skills learned from the module."
   ]
  },
  {
   "cell_type": "markdown",
   "metadata": {},
   "source": [
    "## Clean up\n",
    "A reminder to shutdown VM and delete any relevant resources. <br><br>"
   ]
  },
  {
   "cell_type": "markdown",
   "metadata": {},
   "source": [
    "<br>"
   ]
  }
 ],
 "metadata": {
  "kernelspec": {
   "display_name": "R",
   "language": "R",
   "name": "ir"
  },
  "language_info": {
   "codemirror_mode": "r",
   "file_extension": ".r",
   "mimetype": "text/x-r-source",
   "name": "R",
   "pygments_lexer": "r",
   "version": "4.4.1"
  }
 },
 "nbformat": 4,
 "nbformat_minor": 4
}
