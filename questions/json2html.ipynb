{
 "cells": [
  {
   "cell_type": "code",
   "execution_count": null,
   "id": "f0321211-bc8c-49f5-a34f-c2ca0736da5d",
   "metadata": {},
   "outputs": [],
   "source": [
    "from jupytercards import display_flashcards\n",
    "display_flashcards(\"F3.json\")\n",
    "\n",
    "#from jupyterquiz import display_quiz\n",
    "#display_quiz(\"Q3.json\")"
   ]
  }
 ],
 "metadata": {},
 "nbformat": 4,
 "nbformat_minor": 5
}
