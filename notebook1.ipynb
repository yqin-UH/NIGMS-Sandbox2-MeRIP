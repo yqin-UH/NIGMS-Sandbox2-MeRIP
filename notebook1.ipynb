{
 "cells": [
  {
   "cell_type": "markdown",
   "metadata": {},
   "source": [
    "# Module 1 - Data Acquisition and Preprocessing"
   ]
  },
  {
   "cell_type": "markdown",
   "metadata": {},
   "source": [
    "\n",
    "## Overview\n",
    "Briefly describe the topic(s) to be reviewed in the module."
   ]
  },
  {
   "cell_type": "markdown",
   "metadata": {},
   "source": [
    "## Learning Objectives\n",
    "+ Learning Objective 1\n",
    "+ Learning Objective 2\n",
    "    - Learning Objective 2.1\n",
    "    - Learning Objective 2.2\n",
    "+ Learning Objective 3"
   ]
  },
  {
   "cell_type": "markdown",
   "metadata": {
    "tags": []
   },
   "source": [
    "## Prerequisites\n",
    "- List any APIs that should be enabled.\n",
    "- List cloud platform account roles that must be assigned.\n",
    "- List necessary cloud platform access."
   ]
  },
  {
   "cell_type": "markdown",
   "metadata": {
    "tags": []
   },
   "source": [
    "## Get Started\n",
    "This section should outline the steps to be completed for a given module, such as:\n",
    "- Installing packages.\n",
    "- Setting up environment.\n",
    "- Establishing input and output directories.\n",
    "- Downloading and storing analysis files.\n",
    "- Running through analysis steps.\n",
    "- Outputting data and visualizations."
   ]
  },
  {
   "cell_type": "markdown",
   "metadata": {
    "tags": []
   },
   "source": [
    "## Conclusion\n",
    "Provide an overview of the lessons and skills learned from the module."
   ]
  },
  {
   "cell_type": "markdown",
   "metadata": {},
   "source": [
    "## Clean up\n",
    "A reminder to shutdown VM and delete any relevant resources. <br><br>"
   ]
  },
  {
   "cell_type": "markdown",
   "metadata": {},
   "source": [
    "<br>"
   ]
  },
  {
   "cell_type": "markdown",
   "metadata": {},
   "source": [
    "## Additional Notebook Options & Functionalities"
   ]
  },
  {
   "cell_type": "markdown",
   "metadata": {},
   "source": [
    "---------------------------------"
   ]
  },
  {
   "cell_type": "markdown",
   "metadata": {},
   "source": [
    "### Use alert cells to communicate important messages or information"
   ]
  },
  {
   "cell_type": "markdown",
   "metadata": {},
   "source": [
    "<div class=\"alert alert-block alert-danger\"> <b>Warning:</b> Here is a warning. Please take appropriate action</a>. </div>\n",
    "<div class=\"alert alert-block alert-warning\"> <b>Attention:</b> Please take note</a>. </div>\n",
    "<div class=\"alert alert-block alert-success\"> <b>Success:</b> Your action was successful</a>. </div>\n",
    "<div class=\"alert alert-block alert-info\"> <b>Tip:</b> Try this</a>. </div>"
   ]
  },
  {
   "cell_type": "markdown",
   "metadata": {},
   "source": [
    "### Stylize markdown cells and text"
   ]
  },
  {
   "cell_type": "markdown",
   "metadata": {},
   "source": [
    "<p style=\"background:blue;color:white;font-family:times new roman\"> Change cell background, text color, and/or font. </p>\n",
    "<code style=\"background:black;color:white\">>Make text look similar to command line. </code>"
   ]
  },
  {
   "cell_type": "markdown",
   "metadata": {},
   "source": [
    "**This is bold text.** <br>\n",
    "Another way to <b>bold</b> text. <br><br>\n",
    "*This is italicized text.* <br>\n",
    "Another way to <i>italicize</i> text. <br><br>\n",
    "<mark>Emphasize</mark> a section of text. <br><br>\n",
    "Insert LateX equations: $\\sqrt{n}$"
   ]
  },
  {
   "cell_type": "markdown",
   "metadata": {},
   "source": [
    "### Code syntax highlighting"
   ]
  },
  {
   "cell_type": "markdown",
   "metadata": {},
   "source": [
    "```python\n",
    "def my_python_function():\n",
    "  print(\"Hello from a function\")\n",
    "```"
   ]
  },
  {
   "cell_type": "markdown",
   "metadata": {},
   "source": [
    "### Create tables"
   ]
  },
  {
   "cell_type": "markdown",
   "metadata": {
    "jp-MarkdownHeadingCollapsed": true,
    "tags": []
   },
   "source": [
    "##### Using markdown syntax\n",
    "|Name|Address|Salary| \n",
    "|-----|-------|------| \n",
    "|Hanna|Brisbane|5000| \n",
    "|Adam|Sydney|4000|"
   ]
  },
  {
   "cell_type": "markdown",
   "metadata": {},
   "source": [
    "##### Using HTML syntax\n",
    "<table>\n",
    "<thead>\n",
    "<tr><th>Name</th><th>Address</th><th>Salary</th></tr>\n",
    "</thead>\n",
    "<tbody>\n",
    "<tr><td>Hanna</td><td>Brisbane</td><td>5000</td></tr>\n",
    "<tr><td>Adam</td><td>Sydney</td><td>4000</td></tr>\n",
    "</tbody>\n",
    "</table>"
   ]
  },
  {
   "cell_type": "markdown",
   "metadata": {},
   "source": [
    "### Provide additional details through dropdowns or hover text"
   ]
  },
  {
   "cell_type": "markdown",
   "metadata": {},
   "source": [
    "<details>\n",
    "<summary>Click for help</summary>\n",
    "<br>\n",
    "Put your detailed instructions, command, or helpful hint(s) here.\n",
    "</details>"
   ]
  },
  {
   "cell_type": "markdown",
   "metadata": {},
   "source": [
    "<span title=\"Here is where you should put more detailed instructions.\">Hover mouse over this text for further instructions</span>"
   ]
  },
  {
   "cell_type": "markdown",
   "metadata": {},
   "source": [
    "### Display links"
   ]
  },
  {
   "cell_type": "markdown",
   "metadata": {},
   "source": [
    "[Link To Nextflow Intro Video](https://www.youtube.com/watch?v=wbtMbJTo1xo)"
   ]
  },
  {
   "cell_type": "markdown",
   "metadata": {},
   "source": [
    "<br>"
   ]
  },
  {
   "cell_type": "markdown",
   "metadata": {},
   "source": [
    "## Notebook Embeddings\n",
    "---------------------------------"
   ]
  },
  {
   "cell_type": "markdown",
   "metadata": {},
   "source": [
    "### Embed images"
   ]
  },
  {
   "cell_type": "markdown",
   "metadata": {},
   "source": [
    "![myimage](images/OIP.jpeg)"
   ]
  },
  {
   "cell_type": "markdown",
   "metadata": {
    "tags": []
   },
   "source": [
    "### Embed videos"
   ]
  },
  {
   "cell_type": "code",
   "execution_count": 1,
   "metadata": {
    "tags": []
   },
   "outputs": [
    {
     "data": {
      "image/jpeg": "[encoded data removed]",
      "text/html": [
       "\n",
       "        <iframe\n",
       "            width=\"400\"\n",
       "            height=\"200\"\n",
       "            src=\"https://www.youtube.com/embed/T9fbAkgINf0\"\n",
       "            frameborder=\"0\"\n",
       "            allowfullscreen\n",
       "            \n",
       "        ></iframe>\n",
       "        "
      ],
      "text/plain": [
       "<IPython.lib.display.YouTubeVideo at 0x7fb62a9a6650>"
      ]
     },
     "execution_count": 1,
     "metadata": {},
     "output_type": "execute_result"
    }
   ],
   "source": [
    "from IPython.display import YouTubeVideo\n",
    "\n",
    "# Youtube\n",
    "YouTubeVideo(id='T9fbAkgINf0', height=200, width=400)"
   ]
  },
  {
   "cell_type": "code",
   "execution_count": null,
   "metadata": {},
   "outputs": [],
   "source": [
    "from IPython.display import Video\n",
    "\n",
    "#Sample from vimeo\n",
    "Video(\"videos/sample-mp4-file.mp4\",width=400, height=200)"
   ]
  },
  {
   "cell_type": "code",
   "execution_count": null,
   "metadata": {},
   "outputs": [],
   "source": [
    "from IPython.display import VimeoVideo\n",
    "VimeoVideo(id='281123163', width=400, height=200)"
   ]
  },
  {
   "cell_type": "markdown",
   "metadata": {},
   "source": [
    "### Embed html files"
   ]
  },
  {
   "cell_type": "code",
   "execution_count": null,
   "metadata": {},
   "outputs": [],
   "source": [
    "from IPython.display import IFrame\n",
    "IFrame(src='html/gut_1_fastqc.html', width=900, height=600)"
   ]
  },
  {
   "cell_type": "markdown",
   "metadata": {},
   "source": [
    "### Embed interactive IGV browser"
   ]
  },
  {
   "cell_type": "code",
   "execution_count": null,
   "metadata": {},
   "outputs": [],
   "source": [
    "%pip install --user igv-notebook"
   ]
  },
  {
   "cell_type": "code",
   "execution_count": null,
   "metadata": {},
   "outputs": [],
   "source": [
    "import igv_notebook\n",
    "\n",
    "igv_notebook.init()"
   ]
  },
  {
   "cell_type": "code",
   "execution_count": null,
   "metadata": {},
   "outputs": [],
   "source": [
    "b1 = igv_notebook.Browser(\n",
    "    {\n",
    "        \"genome\": \"hg19\",\n",
    "        \"locus\": \"chr22:24,376,166-24,376,456\",\n",
    "    }\n",
    ")"
   ]
  },
  {
   "cell_type": "markdown",
   "metadata": {},
   "source": [
    "Visit the [ivgteam](https://github.com/igvteam/igv-notebook) Github page for additional information. <br><br>\n",
    "Or refer to our past workshop on [using igv-notebook in jupyter](reference_notebooks/igv_template.ipynb)."
   ]
  },
  {
   "cell_type": "markdown",
   "metadata": {},
   "source": [
    "<br>"
   ]
  },
  {
   "cell_type": "markdown",
   "metadata": {},
   "source": [
    "## Quizzes & Flashcards\n",
    "---------------------------------"
   ]
  },
  {
   "cell_type": "markdown",
   "metadata": {},
   "source": [
    "### Insert quizzes"
   ]
  },
  {
   "cell_type": "code",
   "execution_count": null,
   "metadata": {},
   "outputs": [],
   "source": [
    "#Install jupyterquiz library\n",
    "%pip install jupyterquiz"
   ]
  },
  {
   "cell_type": "code",
   "execution_count": null,
   "metadata": {},
   "outputs": [],
   "source": [
    "#Load jupyterquiz library\n",
    "from jupyterquiz import display_quiz"
   ]
  },
  {
   "cell_type": "code",
   "execution_count": null,
   "metadata": {},
   "outputs": [],
   "source": [
    "#Display quiz as html\n",
    "#Instructions for creating quiz .json files and converting to html provided in the links below\n",
    "from IPython.display import IFrame\n",
    "IFrame('html/quiz_example.html', width=800, height=400)"
   ]
  },
  {
   "cell_type": "markdown",
   "metadata": {},
   "source": [
    "### Insert flashcards"
   ]
  },
  {
   "cell_type": "code",
   "execution_count": null,
   "metadata": {},
   "outputs": [],
   "source": [
    "#Install jupytercards library\n",
    "%pip install jupytercards"
   ]
  },
  {
   "cell_type": "code",
   "execution_count": null,
   "metadata": {},
   "outputs": [],
   "source": [
    "#Display flashcard as html\n",
    "#Instructions for creating flashcard .json files and converting to html provided in the links below\n",
    "from IPython.display import IFrame\n",
    "IFrame('html/flashcard_example.html', width=600, height=600)"
   ]
  },
  {
   "cell_type": "markdown",
   "metadata": {},
   "source": [
    "For more details on constructing and embedding quizzes and flashcards using Python refer to this [notebook](reference_notebooks/python_quiz_template.ipynb). <br><br>\n",
    "For details on constructing and embedding quizzes and flashcards within a notebook using R refer to this [notebook](reference_notebooks/r_quiz_template.ipynb)."
   ]
  },
  {
   "cell_type": "markdown",
   "metadata": {},
   "source": [
    "<br>"
   ]
  },
  {
   "cell_type": "markdown",
   "metadata": {},
   "source": [
    "# Data Figures & Graphics"
   ]
  },
  {
   "cell_type": "markdown",
   "metadata": {},
   "source": [
    "---------------------------------------------------"
   ]
  },
  {
   "cell_type": "markdown",
   "metadata": {},
   "source": [
    "### Data visualization with python"
   ]
  },
  {
   "cell_type": "code",
   "execution_count": null,
   "metadata": {},
   "outputs": [],
   "source": [
    "#Install libraries\n",
    "%pip install matplotlib\n",
    "%pip install pandas\n",
    "%pip install seaborn\n",
    "%pip install numpy\n",
    "%pip install pyvis\n",
    "%pip install ipycytoscape"
   ]
  },
  {
   "cell_type": "code",
   "execution_count": null,
   "metadata": {},
   "outputs": [],
   "source": [
    "#Load libraries\n",
    "import matplotlib.pyplot as plt\n",
    "import pandas as pd\n",
    "import seaborn as sns\n",
    "import numpy as np"
   ]
  },
  {
   "cell_type": "markdown",
   "metadata": {},
   "source": [
    "#### Make volcano plots"
   ]
  },
  {
   "cell_type": "code",
   "execution_count": null,
   "metadata": {},
   "outputs": [],
   "source": [
    "toptable = pd.read_csv('viz_data/Toptable_VolcanoPlot.txt', sep='\\t')\n",
    "\n",
    "# Declare significance thresholds\n",
    "sig = 0.05\n",
    "FC = 0.6\n",
    "\n",
    "toptable['Significance'] = np.where((toptable['logFC'] > FC) & \n",
    "                                    (toptable['P.Value'] < sig), 'Up', \n",
    "                           np.where((toptable['logFC'] < -FC) &\n",
    "                                    (toptable['P.Value'] < sig), 'Down','Not_Sig'))\n",
    "# Count of Significance level\n",
    "toptable['Significance'].value_counts()\n",
    "\n",
    "# Add color to the plot based on the values above with the hue parameter\n",
    "sns.scatterplot(x='logFC', y=-np.log10(toptable['adj.P.Val']), hue='Significance', data=toptable)\n",
    "plt.show()"
   ]
  },
  {
   "cell_type": "markdown",
   "metadata": {},
   "source": [
    "#### Make heatmaps"
   ]
  },
  {
   "cell_type": "code",
   "execution_count": null,
   "metadata": {},
   "outputs": [],
   "source": [
    "# generate a matrix, red pill or blue pill?\n",
    "np.random.seed(100)\n",
    "\n",
    "nr1 = 4\n",
    "nr2 = 8\n",
    "nr3 = 6\n",
    "nr = nr1 + nr2 + nr3\n",
    "nc1 = 6\n",
    "nc2 = 8\n",
    "nc3 = 10\n",
    "nc = nc1 + nc2 + nc3\n",
    "\n",
    "mat1 = np.random.normal(1, 0.5, (nr1, nc1))\n",
    "mat2 = np.random.normal(0, 0.5, (nr2, nc1))\n",
    "mat3 = np.random.normal(0, 0.5, (nr3, nc1))\n",
    "mat4 = np.random.normal(0, 0.5, (nr1, nc2))\n",
    "mat5 = np.random.normal(1, 0.5, (nr2, nc2))\n",
    "mat6 = np.random.normal(0, 0.5, (nr3, nc2))\n",
    "mat7 = np.random.normal(0.5, 0.5, (nr1, nc3))\n",
    "mat8 = np.random.normal(0.5, 0.5, (nr2, nc3))\n",
    "mat9 = np.random.normal(1, 0.5, (nr3, nc3))\n",
    "\n",
    "mat = np.concatenate((np.concatenate((mat1, mat2, mat3), axis=0),\n",
    "                      np.concatenate((mat4, mat5, mat6), axis=0),\n",
    "                      np.concatenate((mat7, mat8, mat9), axis=0)), axis=1)\n",
    "\n",
    "mat = np.array(mat)\n",
    "np.random.shuffle(mat)\n",
    "np.random.shuffle(mat.T)\n",
    "\n",
    "row_names = [\"row\"+str(i) for i in range(1,nr+1)]\n",
    "col_names = [\"column\"+str(i) for i in range(1,nc+1)]\n",
    "\n",
    "mat = pd.DataFrame(mat, index=row_names, columns=col_names)\n",
    "\n",
    "# hate the default colors, so let's match it with the colors from the R notebook\n",
    "from matplotlib.colors import LinearSegmentedColormap\n",
    "red_white_blue = LinearSegmentedColormap.from_list(\"rbw\",[\"red\",\"white\",\"blue\"])\n",
    "\n",
    "sns.heatmap(mat,annot=False,cmap=red_white_blue, linewidth=.5)\n",
    "plt.show()"
   ]
  },
  {
   "cell_type": "markdown",
   "metadata": {},
   "source": [
    "#### Make gene networks"
   ]
  },
  {
   "cell_type": "code",
   "execution_count": null,
   "metadata": {},
   "outputs": [],
   "source": [
    "#Load additional network visualization libraries\n",
    "from pyvis.network import Network\n",
    "#from ipycytoscape import CytoscapeWidget #only needed if want to produce widget below\n",
    "import networkx as nx\n",
    "import requests"
   ]
  },
  {
   "cell_type": "code",
   "execution_count": null,
   "metadata": {},
   "outputs": [],
   "source": [
    "# Create a Network object\n",
    "net = Network(notebook=True, cdn_resources='remote')\n",
    "\n",
    "# Add nodes to the network\n",
    "net.add_node(\"A\", label = \"Gene A\")\n",
    "net.add_node(\"B\", label = \"Gene B\")\n",
    "net.add_node(\"C\", label = \"Gene C\")\n",
    "\n",
    "# Add edges to the network\n",
    "net.add_edge(\"A\", \"B\")\n",
    "net.add_edge(\"B\", \"C\")\n",
    "net.add_edge(\"C\", \"A\")\n",
    "\n",
    "# Show the network\n",
    "net.show(\"network_example.html\")"
   ]
  },
  {
   "cell_type": "code",
   "execution_count": null,
   "metadata": {},
   "outputs": [],
   "source": [
    "#create a list of proteins or genes of interest\n",
    "protein_list = ['TPH1','COMT','SLC18A2','HTR1B','HTR2C','HTR2A','MAOA',\n",
    "            'TPH2','HTR1A','HTR7','SLC6A4','GABBR2','POMC','GNAI3',\n",
    "            'NPY','ADCY1','PDYN','GRM2','GRM3','GABBR1']\n",
    "proteins = '%0d'.join(protein_list)\n",
    "\n",
    "url = 'https://string-db.org/api/tsv/network?identifiers=' + proteins + '&species=9606'\n",
    "r = requests.get(url)\n",
    "\n",
    "lines = r.text.split('\\n') # pull the text from the response object and split based on new lines\n",
    "data = [l.split('\\t') for l in lines] # split each line into its components based on tabs\n",
    "# convert to dataframe using the first row as the column names; drop empty, final row\n",
    "df = pd.DataFrame(data[1:-1], columns = data[0]) \n"
   ]
  },
  {
   "cell_type": "code",
   "execution_count": null,
   "metadata": {},
   "outputs": [],
   "source": [
    "df.head()"
   ]
  },
  {
   "cell_type": "code",
   "execution_count": null,
   "metadata": {},
   "outputs": [],
   "source": [
    "# dataframe with the preferred names of the two proteins and the score of the interaction\n",
    "interactions = df[['preferredName_A', 'preferredName_B', 'score']] \n",
    "\n",
    "G=nx.Graph(name='Protein Interaction Graph')\n",
    "interactions = np.array(interactions)\n",
    "for i in range(len(interactions)):\n",
    "    interaction = interactions[i]\n",
    "    a = interaction[0] # protein a node\n",
    "    b = interaction[1] # protein b node\n",
    "    w = float(interaction[2]) # score as weighted edge where high scores = low weight\n",
    "    G.add_weighted_edges_from([(a,b,w)]) # add weighted edge to graph\n",
    "\n",
    "pos = nx.spring_layout(G) # position the nodes using the spring layout\n",
    "plt.figure(figsize=(11,11),facecolor=[0.7,0.7,0.7,0.4])\n",
    "nx.draw_networkx(G)\n",
    "\n",
    "#cyto = CytoscapeWidget()\n",
    "#cyto.graph.add_graph_from_networkx(G)\n",
    "\n",
    "#display(cyto)\n",
    "plt.axis('off')\n",
    "plt.show()"
   ]
  },
  {
   "cell_type": "markdown",
   "metadata": {},
   "source": [
    "### Data visualization with R\n",
    "[Open R Notebook](./reference_notebooks/r_viz_template.ipynb)"
   ]
  }
 ],
 "metadata": {
  "kernelspec": {
   "display_name": "conda_python3",
   "language": "python",
   "name": "conda_python3"
  },
  "language_info": {
   "codemirror_mode": {
    "name": "ipython",
    "version": 3
   },
   "file_extension": ".py",
   "mimetype": "text/x-python",
   "name": "python",
   "nbconvert_exporter": "python",
   "pygments_lexer": "ipython3",
   "version": "3.10.14"
  }
 },
 "nbformat": 4,
 "nbformat_minor": 4
}
