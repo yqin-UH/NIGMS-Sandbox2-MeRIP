{
 "cells": [
  {
   "cell_type": "markdown",
   "metadata": {},
   "source": [
    "# <b>Module 4. nf-meripseq - an integrated nexflow pipeline </b>\n",
    "--------------------------------------------"
   ]
  },
  {
   "cell_type": "markdown",
   "metadata": {},
   "source": [
    "## Overview\n",
    "In the first three modules, you learned how to perform MeRIP-seq data analysis step-by-step, running each part of the workflow manually. In this module, we transition to an automated, scalable, and reproducible pipeline — <b>nf-meripseq</b>. Built using <a href=\"https://www.nextflow.io/docs/latest/index.html\">Nextflow</a> and inspired by <a href =\"https://nf-co.re/\">nf-core</a> best practices, this pipeline integrates the full workflow:\n",
    "<b>Quality Control → Alignment → Peak Calling → Differential Analysis → Reporting </b>— all managed via a single command.\n",
    "\n",
    "Advantages of using a nextflow pipeline (nf-meripseq):\n",
    "- **Automation**: Run all steps in one workflow, reducing manual error.\n",
    "- **Reproducibility**: Ensure consistent results across computing environments.\n",
    "- **Scalability**: Handle large datasets on local machines, HPC clusters, or cloud platforms.\n",
    "- **Community best-practices**: Built and maintained by nf-core following strict standards for quality and testing."
   ]
  },
  {
   "cell_type": "markdown",
   "metadata": {},
   "source": [
    "## Learning Objectives\n",
    "By the end of this module, you will:\n",
    "+ Understand the benefits of using a Nextflow pipeline for MeRIP-seq analysis.\n",
    "+ Learn to set up the environment using Nextflow and Singularity (or other container engine: Docker or Conda).\n",
    "+ Run the nf-meripseq pipeline on a test dataset.\n",
    "+ Explore the output structure, results, and QC reports."
   ]
  },
  {
   "cell_type": "markdown",
   "metadata": {},
   "source": [
    "## Prerequisites\n",
    "This module assumes that you have completed module 1–3 of this tutorial (covering MeRIP-seq theory, alignment, and peak calling manually) and have a basic understanding of command-line operations"
   ]
  },
  {
   "cell_type": "markdown",
   "metadata": {},
   "source": [
    "## Get Started\n",
    "In this section, you will set up the necessary environment and successfully run the nf-meripseq pipeline on a test dataset.\n",
    "\n",
    "### 1. 🛠️ Install necessary packages\n",
    "- <b>Nextflow</b> A workflow manager designed for scalable and reproducible scientific workflows. \n",
    "- <b>Singularity</b> A container engine that allows us to run pre-built software environments without installing packages manually.\n",
    "\n",
    "We’ll use <code>conda</code> to install them:"
   ]
  },
  {
   "cell_type": "code",
   "execution_count": null,
   "metadata": {
    "scrolled": true
   },
   "outputs": [],
   "source": [
    "! conda install bioconda::nextflow conda-forge::singularity conda-forge::tree -y --quiet"
   ]
  },
  {
   "cell_type": "markdown",
   "metadata": {},
   "source": [
    "### 2. Prepare the Dataset\n",
    "We use the same dataset from previous modules. This ensures consistency when comparing manual vs. pipeline-based results."
   ]
  },
  {
   "cell_type": "code",
   "execution_count": null,
   "metadata": {
    "scrolled": true
   },
   "outputs": [],
   "source": [
    "# copy the data from s3 bucket to example_dataset directory\n",
    "! aws s3 cp s3://ovarian-cancer-example-fastqs/ example_dataset --recursive\n",
    "# decompress the sequence reads files\n",
    "! tar -zxvf example_dataset/fastqs.tar.gz -C example_dataset"
   ]
  },
  {
   "cell_type": "markdown",
   "metadata": {},
   "source": [
    "Make sure that after extraction:\n",
    "- FASTQ files are located in example_dataset/fastqs\n",
    "- Reference genome .fasta and .gtf files are located in example dataset\n",
    "- A <code>samplesheet.csv</code> file is present with metadata describing each sample (see below).\n",
    "\n",
    "#### About samplesheet ####\n",
    "\n",
    "The <code>samplesheet.csv</code> will be provided using <code>--input</code> to provide information about the samples that need to be analyzed. It should be a comma-seperated file with columns below:\n",
    "- <b>sample</b>: Custom sample name. This entry will be identical for multiple sequencing libraries/runs from the same sample.\n",
    "- <b>fastq1</b>: Full path to FastQ file for Illumina short reads 1. File has to be gzipped and have the extension “.fastq.gz” or “.fq.gz”.\n",
    "- <b>fastq2</b> (optional): Full path to FastQ file for Illumina short reads 2. File has to be gzipped and have the extension “.fastq.gz” or “.fq.gz”.\n",
    "- <b>replicate</b>: Integer representing replicate number. This will be identical for re-sequenced libraries. Must start from 1..\\<number of replicates\\>.\n",
    "- <b>control</b>: The control column should be the sample identifier for the (input) controls for any given m6A-IP sample. It sets the corresponding (input) control for each of the samples in the table.\n",
    "- <b>group</b>: experimental groups, required to separate the downstream consensus peak merging and differential peak calling for different groups."
   ]
  },
  {
   "cell_type": "markdown",
   "metadata": {},
   "source": [
    "### 3. Run the <code>nf-meripseq</code> pipeline\n",
    "Run the integrated pipeline using the following command:\n",
    "```\n",
    "nextflow run nf-meripseq -profile singularity \\\n",
    "    --input example_dataset/samplesheet.csv \\\n",
    "    --gtf example_dataset/gencode.v46.pri.chr11.1.5M.gtf \\\n",
    "    --fasta example_dataset/chr11_1.5M.fasta \\\n",
    "    --genome hg38 \\\n",
    "    --read_length 37 \\\n",
    "    --outdir=\"Tutorial_4\" \\\n",
    "    --contrast \"omental_tumor_vs_normal_Fallopian_tube\" \\\n",
    "    -c add.config \\\n",
    "    -resume \n",
    "``` \n",
    "#### What does this command do? \n",
    "\n",
    "| Parameters | Description |\n",
    "| :-------------------------------- | ---- |\n",
    "| <code>-profile singularity</code> | Specifies the compute profile to use. In this case, it enables the **Singularity** container engine. Profiles are helpful for applying predefined configuration settings tailored for local machines, HPC clusters, or cloud platforms. |\n",
    "| <code>--input</code>              | Path to the <code>samplesheet.csv</code>. This file contains sample metadata, including conditions, replicates, and control mappings. |\n",
    "| <code>--gtf / --fasta</code>      | Paths to the reference annotation (<code>.gtf</code>) and reference genome sequence (<code>.fasta</code>). These are **recommanded** for accurate alignment and feature annotation. |\n",
    "| <code>--genome</code>             | If <code>--gtf/--fasta</code> are not provided, <code>--genome</code> can be used to pull reference files from <i>iGenomes</i>. When custom references are used (i.e., when <code>--gtf</code> and <code>--fasta</code> are supplied), <code>--genome</code> instead defines the genome-specific R annotation package, used by exomePeak2 for GC bias correction and peak calling. Examples: hg38, mm10 ... |\n",
    "| <code>--read_length</code>        | Specifies the read length of the sequencing data. This is important for estimating effective genome size in tools like MACS3 (used for peak calling). |\n",
    "| <code>--outdir</code>             | Path to the output directory where all results and reports will be stored. |\n",
    "| <code>--contrast</code>           | Defines the **condition contrast** for differential peak calling. Format: <code>groupA_vs_groupB</code>, where both groups must be present in the group column of the samplesheet. Alternatively, path of a file containing multiple contrast strings can be provided. |\n",
    "| <code>-c</code>                   | Loads an additional custom configuration file (e.g., <code>add.config</code>) to override or extend default settings. Useful for specifying custom paths, containers, or resource allocations. |\n",
    "| <code>-resume</code>              | Tells Nextflow to resume a previous run from where it left off. This is highly recommended to avoid reprocessing completed steps when rerunning the pipeline. |\n"
   ]
  },
  {
   "cell_type": "code",
   "execution_count": null,
   "metadata": {
    "scrolled": true
   },
   "outputs": [],
   "source": [
    "! nextflow run nf-meripseq -profile singularity \\\n",
    "    --input example_dataset/samplesheet.csv \\\n",
    "    --gtf example_dataset/gencode.v46.pri.chr11.1.5M.gtf \\\n",
    "    --fasta example_dataset/chr11_1.5M.fasta \\\n",
    "    --genome hg38 \\\n",
    "    --read_length 37 \\\n",
    "    --outdir=\"Tutorial_4\" \\\n",
    "    --contrast \"omental_tumor_vs_normal_Fallopian_tube\" \\\n",
    "    -c add.config \\\n",
    "    -resume "
   ]
  },
  {
   "cell_type": "markdown",
   "metadata": {},
   "source": [
    "### 4. Output Overview \n",
    "\n",
    "After running the <code>nf-meripseq</code> pipeline, results are organized under the specified output directory (<code>Tutorial_4/</code>). Here's a breakdown of the directory structure and what each component contains:"
   ]
  },
  {
   "cell_type": "code",
   "execution_count": null,
   "metadata": {},
   "outputs": [],
   "source": [
    "! tree -d Tutorial_4"
   ]
  },
  {
   "cell_type": "markdown",
   "metadata": {},
   "source": [
    "#### Summary of Key Outputs:\n",
    "- <code>star_rsem_index/</code>: STAR/RSEM reference index files (if built during run)\n",
    "- <code>fastqc/</code>: Raw read quality reports for initial quality assessment.\n",
    "- <code>sorted_alignment/</code>: Aligned reads (IP and input samples), useful for downstream visualization or reanalysis.\n",
    "- <code>bigwig/</code>: Normalized signal tracks for viewing in IGV or UCSC Genome Browser.\n",
    "- <code>input_rnaseq/</code>: Expression-level data for input RNA, generated via STAR + RSEM (optional but useful for interpretation).\n",
    "- <code>peak_calling/</code>: Raw peak calls from exomePeak2 and MACS3, provided per sample and per group consensus peaks.\n",
    "- <code>differential_peaks/</code>: Results from exomePeak2 differential peak calling, organized by condition contrast.\n",
    "- <code>multiqc/</code>: Consolidated HTML and plot reports summarizing QC, alignment, and quantification.\n",
    "- <code>pipeline_info/</code>: Runtime metadata including logs and software versions, important for reproducibility.\n"
   ]
  },
  {
   "cell_type": "markdown",
   "metadata": {
    "jp-MarkdownHeadingCollapsed": true
   },
   "source": [
    "## Conclusion\n",
    "In this module, you:\n",
    "- Shifted from manual to automated MeRIP-seq analysis.\n",
    "- Learned how to use Nextflow with Singularity.\n",
    "- Successfully ran the nf-meripseq workflow.\n",
    "- Explored how outputs are structured and what each result represents.\n",
    "\n",
    "You're now equipped to run reproducible, large-scale MeRIP-seq analyses!"
   ]
  },
  {
   "cell_type": "markdown",
   "metadata": {
    "jp-MarkdownHeadingCollapsed": true
   },
   "source": [
    "## 🧹 Clean up\n",
    "A reminder to shutdown VM/notebook and delete any relevant resources. <br><br>"
   ]
  }
 ],
 "metadata": {
  "kernelspec": {
   "display_name": "conda_python3",
   "language": "python",
   "name": "conda_python3"
  },
  "language_info": {
   "codemirror_mode": {
    "name": "ipython",
    "version": 3
   },
   "file_extension": ".py",
   "mimetype": "text/x-python",
   "name": "python",
   "nbconvert_exporter": "python",
   "pygments_lexer": "ipython3",
   "version": "3.10.17"
  }
 },
 "nbformat": 4,
 "nbformat_minor": 4
}
