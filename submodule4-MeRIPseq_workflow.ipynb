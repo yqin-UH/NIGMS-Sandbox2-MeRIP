{
 "cells": [
  {
   "cell_type": "markdown",
   "metadata": {},
   "source": [
    "# <b>Module 4. nf-meripseq - an integrated nexflow pipeline </b>\n",
    "--------------------------------------------"
   ]
  },
  {
   "cell_type": "markdown",
   "metadata": {},
   "source": [
    "## Overview\n",
    "You have learned the principles of MeRIP-seq data analysis and performed each processing step manually in previous modules. In this module, we shift focus from step-by-step manual analysis to using a reproducible, automated pipeline to streamline the entire workflow.\n",
    "\n",
    "<b>nf-meripseq</b> is an integrated analysis pipeline built with <a href=\"https://www.nextflow.io/docs/latest/index.html\">Nextflow</a> and supported by the <a href =\"https://nf-co.re/\">nf-core</a> community community. It bundles all the essential processing steps — quality control, alignment, peak calling, differential analysis, and reporting — into a single, easy-to-run command.\n",
    "\n",
    "Advantages of using nextflow pipeline (nf-meripseq):\n",
    "- **Automation**: Run all steps in one workflow, reducing manual error.\n",
    "- **Reproducibility**: Ensure consistent results across computing environments.\n",
    "- **Scalability**: Handle large datasets on local machines, HPC clusters, or cloud platforms.\n",
    "- **Community best-practices**: Built and maintained by nf-core following strict standards for quality and testing."
   ]
  },
  {
   "cell_type": "markdown",
   "metadata": {},
   "source": [
    "## Learning Objectives\n",
    "After this module, you will be able to:\n",
    "+ Understand the purpose and advantages of using a pipeline for MeRIP-seq analysis.\n",
    "+ Set up the environment to run a Nextflow pipeline (Nextflow + Singularity).\n",
    "+ Successfully execute the nf-meripseq pipeline on a test dataset.\n",
    "+ Explore the output structure and generated reports."
   ]
  },
  {
   "cell_type": "markdown",
   "metadata": {},
   "source": [
    "## Prerequisites\n",
    "- Understanding the basic processing steps of MeRIPseq data: completed Modules 1–3 (MeRIP-seq basic concepts and manual data processing steps)"
   ]
  },
  {
   "cell_type": "markdown",
   "metadata": {},
   "source": [
    "## Get Started\n",
    "In this section, you will set up the necessary environment and successfully run the nf-meripseq pipeline on a test dataset.\n",
    "\n",
    "### 1. Install necessary packages using <code>conda</code>\n",
    "- <b>Nextflow</b> manages the execution of the pipeline. \n",
    "- <b>Singularity</b> is a container engine — a tool that packages and runs entire software environments in an isolated and portable way. Most nf-core pipelines are containerized, so the environment is automatically managed inside containers."
   ]
  },
  {
   "cell_type": "code",
   "execution_count": null,
   "metadata": {
    "scrolled": true
   },
   "outputs": [],
   "source": [
    "! conda install bioconda::nextflow conda-forge::singularity -y"
   ]
  },
  {
   "cell_type": "markdown",
   "metadata": {},
   "source": [
    "### 2. Get datasets\n",
    "This example dataset is the same one used in submodule1."
   ]
  },
  {
   "cell_type": "code",
   "execution_count": null,
   "metadata": {
    "scrolled": true
   },
   "outputs": [],
   "source": [
    "# copy the data from s3 bucket to example_dataset directory\n",
    "! aws s3 cp s3://ovarian-cancer-example-fastqs/ example_dataset --recursive\n",
    "# decompress the sequence reads files\n",
    "! tar -zxvf example_dataset/fastqs.tar.gz -C example_dataset"
   ]
  },
  {
   "cell_type": "markdown",
   "metadata": {},
   "source": [
    "### 3. Run nf-meripseq\n",
    "<b>samplesheet.csv</b> \n",
    "The <code>control</code> column should be the sample identifier for the controls for any given IP. This column together with the control_replicate column will set the corresponding control for each of the samples in the table."
   ]
  },
  {
   "cell_type": "code",
   "execution_count": null,
   "metadata": {
    "scrolled": true
   },
   "outputs": [],
   "source": [
    "! nextflow run nf-meripseq -profile singularity \\\n",
    "    --input example_dataset/samplesheet.csv \\\n",
    "    --gtf example_dataset/gencode.v46.pri.chr11.1.5M.gtf \\\n",
    "    --fasta example_dataset/chr11_1.5M.fasta \\\n",
    "    --genome hg38 \\\n",
    "    --read_length 37 \\\n",
    "    --outdir=\"Tutorial_4\" \\\n",
    "    --contrast \"omental_tumor_vs_normal_Fallopian_tube\" \\\n",
    "    -c add.config \\\n",
    "    -resume --skip_exomepeak2_single true"
   ]
  },
  {
   "cell_type": "code",
   "execution_count": null,
   "metadata": {},
   "outputs": [],
   "source": [
    "! ls /home/ec2-user/SageMaker/docker_image/exomepeak2/r-meripseq.sif\n"
   ]
  },
  {
   "cell_type": "markdown",
   "metadata": {},
   "source": [
    "## Conclusion\n",
    "Provide an overview of the lessons and skills learned from the module."
   ]
  },
  {
   "cell_type": "markdown",
   "metadata": {},
   "source": [
    "## Clean up\n",
    "A reminder to shutdown VM and delete any relevant resources. <br><br>"
   ]
  },
  {
   "cell_type": "code",
   "execution_count": null,
   "metadata": {},
   "outputs": [],
   "source": []
  }
 ],
 "metadata": {
  "kernelspec": {
   "display_name": "conda_python3",
   "language": "python",
   "name": "conda_python3"
  },
  "language_info": {
   "codemirror_mode": {
    "name": "ipython",
    "version": 3
   },
   "file_extension": ".py",
   "mimetype": "text/x-python",
   "name": "python",
   "nbconvert_exporter": "python",
   "pygments_lexer": "ipython3",
   "version": "3.10.16"
  }
 },
 "nbformat": 4,
 "nbformat_minor": 4
}
